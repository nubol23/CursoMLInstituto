{
 "cells": [
  {
   "cell_type": "markdown",
   "metadata": {
    "slideshow": {
     "slide_type": "slide"
    }
   },
   "source": [
    "# Regresión Lineal"
   ]
  },
  {
   "cell_type": "code",
   "execution_count": null,
   "metadata": {},
   "outputs": [],
   "source": [
    "!git clone https://github.com/nubol23/CursoMLInstituto.git"
   ]
  },
  {
   "cell_type": "code",
   "execution_count": null,
   "metadata": {
    "slideshow": {
     "slide_type": "slide"
    }
   },
   "outputs": [],
   "source": [
    "import numpy as np\n",
    "import pandas as pd\n",
    "\n",
    "import matplotlib.pyplot as plt\n",
    "\n",
    "from ipywidgets import interact, interactive, fixed, interact_manual\n",
    "import ipywidgets as widgets\n",
    "\n",
    "import ipyvolume as ipv"
   ]
  },
  {
   "cell_type": "code",
   "execution_count": null,
   "metadata": {
    "slideshow": {
     "slide_type": "slide"
    }
   },
   "outputs": [],
   "source": [
    "x= np.arange(0,40)\n",
    "x1 = np.linspace(0,40)\n",
    "np.random.seed(100)\n",
    "y = 3.4 + 6.7*x + np.random.randn(x.shape[0])*50"
   ]
  },
  {
   "cell_type": "code",
   "execution_count": null,
   "metadata": {
    "slideshow": {
     "slide_type": "fragment"
    }
   },
   "outputs": [],
   "source": [
    "plt.scatter(x,y)\n",
    "plt.ylabel(\"$y=f(x)$\")\n",
    "plt.xlabel(\"x\")\n",
    "plt.ylim(0,400)"
   ]
  },
  {
   "cell_type": "markdown",
   "metadata": {
    "slideshow": {
     "slide_type": "slide"
    }
   },
   "source": [
    "Lo que buscamos es encontrar una función que pueda \"replicar\" nuestros datos de manera coherente, parece razonable plantear una relación lineal para nuestro ejemplo\n",
    "\n",
    "$$ y_i = \\theta_0 + \\theta_1 x_i + \\epsilon_i$$\n",
    "\n",
    "PARTE DETERMINISTICA:  \n",
    "$$  \\theta_0 + \\theta_1 x_i $$\n",
    "\n",
    "PARTE ESTOCASTICA:\n",
    "$$\\epsilon_i$$"
   ]
  },
  {
   "cell_type": "code",
   "execution_count": null,
   "metadata": {
    "cell_style": "split",
    "slideshow": {
     "slide_type": "fragment"
    }
   },
   "outputs": [],
   "source": [
    "def f_update(t0,t1):\n",
    "    plt.scatter(x,y)\n",
    "    plt.ylabel(\"y\")\n",
    "    plt.xlabel(\"x\")\n",
    "    plt.plot(x, t0 + t1*x, c=\"purple\")\n",
    "    plt.ylim(0,400)"
   ]
  },
  {
   "cell_type": "code",
   "execution_count": null,
   "metadata": {
    "cell_style": "split",
    "slideshow": {
     "slide_type": "fragment"
    }
   },
   "outputs": [],
   "source": [
    "interactive(f_update, t0=(-100,200), t1=(-30,30))"
   ]
  },
  {
   "cell_type": "markdown",
   "metadata": {
    "slideshow": {
     "slide_type": "slide"
    }
   },
   "source": [
    "# Necesitamos una medida para saber si estamos cerca de nuestro objetivo:"
   ]
  },
  {
   "cell_type": "markdown",
   "metadata": {
    "cell_style": "center",
    "slideshow": {
     "slide_type": "fragment"
    }
   },
   "source": [
    "$$ y_i - (\\theta_0 + \\theta_1 x_i) = \\epsilon_i$$\n",
    "\n",
    "* $\\theta_0$ y $\\theta_1$ son parámetros poblacionales, y no los llegaremos a conocer\n",
    "* Nos aproximaremos a ellos a través de un *ESTIMACIÓN DE PARÁMETROS*\n",
    "* ADVERTENCIA por temas de notación utilizaremos $\\theta_0$, $\\theta_1$ en lugar de  $\\hat{\\theta_0}$, $\\hat{\\theta_1}$.  "
   ]
  },
  {
   "cell_type": "markdown",
   "metadata": {
    "cell_style": "center",
    "slideshow": {
     "slide_type": "slide"
    }
   },
   "source": [
    "$$h(x_i|\\Theta) = \\hat{y_i} = \\theta_0 + \\theta_1 x_i $$\n",
    "Por simplificar la notación utilizaremos solamente:\n",
    "$$ h(x_i)$$ en lugar de: $$h(x_i|\\Theta)$$"
   ]
  },
  {
   "cell_type": "markdown",
   "metadata": {
    "slideshow": {
     "slide_type": "fragment"
    }
   },
   "source": [
    "### Definimos como métrica de error, el error cuadrático medio\n",
    "\n",
    "$$ \\frac{1}{2} (y_i - h(x_i))^2 $$"
   ]
  },
  {
   "cell_type": "markdown",
   "metadata": {
    "slideshow": {
     "slide_type": "slide"
    }
   },
   "source": [
    "### Sumando los errores"
   ]
  },
  {
   "cell_type": "markdown",
   "metadata": {
    "cell_style": "split",
    "slideshow": {
     "slide_type": "fragment"
    }
   },
   "source": [
    "$$ \\sum_{i=1}^m{\\epsilon_i}  \\sum_{i=1}^m{y_i - h(x_i)} $$\n"
   ]
  },
  {
   "cell_type": "markdown",
   "metadata": {
    "cell_style": "split",
    "slideshow": {
     "slide_type": "fragment"
    }
   },
   "source": [
    "* Al existir errores positivos y negativos usar una sumatoria simple tenderá a \"eliminar\" los errores. \n",
    "* Utilizamos la sumatoria de los cuadrados de los errores"
   ]
  },
  {
   "cell_type": "markdown",
   "metadata": {
    "cell_style": "center",
    "slideshow": {
     "slide_type": "fragment"
    }
   },
   "source": [
    " $$ \\sum_{i=1}^m{\\epsilon_i^2} = \\sum_{i=1}^m Loss(y_i, h(x_i))  = \\sum_{i=1}^m{[y_i - h(x_i)]^2} $$"
   ]
  },
  {
   "cell_type": "markdown",
   "metadata": {
    "slideshow": {
     "slide_type": "slide"
    }
   },
   "source": [
    "### Definimos la funcion de costo como\n",
    "\n",
    " $$\\tiny J(\\Theta) =  \\frac{1}{2m} \\sum_{i=1}^m{[y_i - h(x_i)]^2} $$"
   ]
  },
  {
   "cell_type": "code",
   "execution_count": null,
   "metadata": {
    "cell_style": "split",
    "slideshow": {
     "slide_type": "fragment"
    }
   },
   "outputs": [],
   "source": [
    "def f_update_e(t0,t1):\n",
    "    plt.scatter(x,y)\n",
    "    plt.ylabel(\"y\")\n",
    "    plt.xlabel(\"x\")\n",
    "    plt.plot(x, t0 + t1*x, c=\"purple\")\n",
    "    plt.ylim(0,400)\n",
    "    print(round(1/len(y)*round(np.sum(np.square(y - (t0 + t1*x))),2 )))"
   ]
  },
  {
   "cell_type": "code",
   "execution_count": null,
   "metadata": {
    "cell_style": "split",
    "slideshow": {
     "slide_type": "fragment"
    }
   },
   "outputs": [],
   "source": [
    "interactive(f_update_e, t0=(-100,200), t1=(-30,30))"
   ]
  },
  {
   "cell_type": "markdown",
   "metadata": {
    "slideshow": {
     "slide_type": "slide"
    }
   },
   "source": [
    " ### Nuestro objetivo es: MINIMIZAR LA FUNCIÓN DE COSTO\n",
    " $$\\min_{\\Theta} \\ \\  J(\\Theta) =  \\frac{1}{2m}\\sum_{i=1}^m{[y_i - h(x_i)]^2} $$"
   ]
  },
  {
   "cell_type": "markdown",
   "metadata": {
    "slideshow": {
     "slide_type": "fragment"
    }
   },
   "source": [
    "Tendremos 2 formas de solucionar este problema.  \n",
    "* De manera Iterativa\n",
    "* De manera Analítica"
   ]
  },
  {
   "cell_type": "markdown",
   "metadata": {
    "slideshow": {
     "slide_type": "slide"
    }
   },
   "source": [
    "### Solución Analítica"
   ]
  },
  {
   "cell_type": "markdown",
   "metadata": {
    "cell_style": "split",
    "slideshow": {
     "slide_type": "fragment"
    }
   },
   "source": [
    "Derivamos nuestra función de costo respecto a los parámetros de nuestro vector $\\Theta$\n",
    "\n",
    "$$\\min_{\\Theta} \\ \\  J(\\Theta) =  \\sum_{i=1}^m{[y_i - h(x_i)]^2} $$"
   ]
  },
  {
   "cell_type": "markdown",
   "metadata": {
    "cell_style": "split",
    "slideshow": {
     "slide_type": "fragment"
    }
   },
   "source": [
    "Reexpresamos en términos de $\\theta_i$\n",
    "\n",
    "$$\\min_{\\Theta} \\ \\  J(\\Theta) =  \\sum_{i=1}^N{[y_i - \\theta_0 - \\theta_1x_i]^2} $$"
   ]
  },
  {
   "cell_type": "markdown",
   "metadata": {
    "slideshow": {
     "slide_type": "slide"
    }
   },
   "source": [
    "Derivamos y obtenemos el gradiente: \n",
    "\n",
    "$$\\frac{\\partial J}{\\partial \\theta_0} = 2\\sum{(y_i−\\theta_0 − \\theta_1 x_i)}(-1)$$\n",
    "\n",
    "$$\\frac{\\partial J}{\\partial \\theta_1} = 2\\sum{(y_i−\\theta_0 − \\theta_1 x_i)}(-x_i)$$"
   ]
  },
  {
   "cell_type": "markdown",
   "metadata": {
    "cell_style": "center",
    "slideshow": {
     "slide_type": "slide"
    }
   },
   "source": [
    "Igualamos a 0 \n",
    "\n",
    "$$\\nabla J = \\;\n",
    "\\begin{bmatrix}\n",
    " \\frac{\\partial J}{\\partial \\theta_0} \\\\\n",
    " \\frac{\\partial J}{\\partial \\theta_1} \n",
    "\\end{bmatrix}\n",
    "=\n",
    " \\begin{bmatrix}\n",
    "      2\\sum{(y_i−\\theta_0 − \\theta_1 x_i)}(-1) \\\\\n",
    "      2\\sum{(y_i−\\theta_0 − \\theta_1 x_i)}(-x_i)\\\\\n",
    "    \\end{bmatrix}\n",
    "     = \n",
    "     \\begin{bmatrix}\n",
    "     0 \\\\ \n",
    "     0\n",
    "     \\end{bmatrix}\n",
    "     $$"
   ]
  },
  {
   "cell_type": "markdown",
   "metadata": {
    "slideshow": {
     "slide_type": "fragment"
    }
   },
   "source": [
    "$$  \\begin{bmatrix}\n",
    "      \\sum{(y_i−\\theta_0 − \\theta_1 x_i)} \\\\\n",
    "      \\sum{(y_i−\\theta_0 − \\theta_1 x_i)}(x_i)\\\\\n",
    "    \\end{bmatrix}\n",
    "     = \n",
    "     \\begin{bmatrix}\n",
    "     0 \\\\ \n",
    "     0\n",
    "     \\end{bmatrix}\n",
    "     $$"
   ]
  },
  {
   "cell_type": "markdown",
   "metadata": {
    "slideshow": {
     "slide_type": "slide"
    }
   },
   "source": [
    "Resolviendo el sistema de ecuaciones obtenemos:"
   ]
  },
  {
   "cell_type": "markdown",
   "metadata": {
    "slideshow": {
     "slide_type": "fragment"
    }
   },
   "source": [
    "$$\\theta_0^* = \\bar{y} - \\theta_1 \\bar{x}$$"
   ]
  },
  {
   "cell_type": "markdown",
   "metadata": {
    "slideshow": {
     "slide_type": "fragment"
    }
   },
   "source": [
    "$$\\theta_1^* = \\frac{\\sum x_i y_i - \\bar{y}\\sum x_i}{\\sum x_i^2 - \\bar{x} \\sum{x_i}}$$"
   ]
  },
  {
   "cell_type": "markdown",
   "metadata": {
    "slideshow": {
     "slide_type": "slide"
    }
   },
   "source": [
    "## Esto se puede generalizar a un modelo lineal con más variables:"
   ]
  },
  {
   "cell_type": "markdown",
   "metadata": {
    "slideshow": {
     "slide_type": "fragment"
    }
   },
   "source": [
    "$$ y_i = \\theta_0 + \\theta_1x_{1i} + \\theta_2x_{2i} + ... + \\theta_kx_{ki} + \\epsilon_i $$"
   ]
  },
  {
   "cell_type": "markdown",
   "metadata": {
    "slideshow": {
     "slide_type": "fragment"
    }
   },
   "source": [
    "$$ Y = X\\Theta + U $$"
   ]
  },
  {
   "cell_type": "markdown",
   "metadata": {
    "slideshow": {
     "slide_type": "slide"
    }
   },
   "source": [
    "### De manera similar, se puede minimizar la función de costo de la función con k variables, llegando al siguiente resultado: "
   ]
  },
  {
   "cell_type": "markdown",
   "metadata": {
    "slideshow": {
     "slide_type": "fragment"
    }
   },
   "source": [
    "$$ \\Theta^* = (X'X)^{-1}X'Y$$"
   ]
  },
  {
   "cell_type": "markdown",
   "metadata": {
    "slideshow": {
     "slide_type": "slide"
    }
   },
   "source": [
    "## Leemos los datos"
   ]
  },
  {
   "cell_type": "code",
   "execution_count": null,
   "metadata": {
    "cell_style": "split",
    "slideshow": {
     "slide_type": "fragment"
    }
   },
   "outputs": [],
   "source": [
    "ex2 = pd.read_csv(\"CursoMLInstituto/RegresionLineal/ejemplo2.csv\", index_col=0)\n",
    "\n",
    "ex2.head()"
   ]
  },
  {
   "cell_type": "code",
   "execution_count": null,
   "metadata": {
    "cell_style": "split",
    "slideshow": {
     "slide_type": "fragment"
    }
   },
   "outputs": [],
   "source": [
    "ipv.quickscatter(ex2[\"X1\"],ex2[\"X2\"],ex2[\"Y\"], size=1, marker=\"sphere\")"
   ]
  },
  {
   "cell_type": "markdown",
   "metadata": {
    "slideshow": {
     "slide_type": "slide"
    }
   },
   "source": [
    "## Implementamos la optimización matricial\n",
    "\n",
    "$$ \\Theta^* = (X'X)^{-1}X'Y$$"
   ]
  },
  {
   "cell_type": "code",
   "execution_count": null,
   "metadata": {
    "slideshow": {
     "slide_type": "fragment"
    }
   },
   "outputs": [],
   "source": [
    "def reg_lin_Mat(X,Y):\n",
    "    \"\"\"\n",
    "    X: Matriz de dimensiones (n,k+1) primera columna de 1\n",
    "    Y: Vector de salidas\n",
    "    \"\"\"\n",
    "    return np.linalg.inv(X.T@X)@(X.T@Y)"
   ]
  },
  {
   "cell_type": "code",
   "execution_count": null,
   "metadata": {
    "slideshow": {
     "slide_type": "slide"
    }
   },
   "outputs": [],
   "source": [
    "Y = ex2[\"Y\"]\n",
    "type(Y)\n",
    "Y.head()\n",
    "\n",
    "Y = Y.values ## Cambiando el tipo de datos a arrays de numpy"
   ]
  },
  {
   "cell_type": "code",
   "execution_count": null,
   "metadata": {
    "cell_style": "split",
    "slideshow": {
     "slide_type": "fragment"
    }
   },
   "outputs": [],
   "source": [
    "X = ex2.iloc[:,1:].copy()\n",
    "X.insert(0,\"X0\",1) #index, name, value\n",
    "X.head()"
   ]
  },
  {
   "cell_type": "code",
   "execution_count": null,
   "metadata": {
    "cell_style": "split",
    "slideshow": {
     "slide_type": "fragment"
    }
   },
   "outputs": [],
   "source": [
    "X = X.values"
   ]
  },
  {
   "cell_type": "code",
   "execution_count": null,
   "metadata": {
    "slideshow": {
     "slide_type": "slide"
    }
   },
   "outputs": [],
   "source": [
    "Theta = reg_lin_Mat(X,Y)\n",
    "\n",
    "print(Theta)"
   ]
  },
  {
   "cell_type": "code",
   "execution_count": null,
   "metadata": {
    "cell_style": "split",
    "slideshow": {
     "slide_type": "fragment"
    }
   },
   "outputs": [],
   "source": [
    "y_hat = X@Theta"
   ]
  },
  {
   "cell_type": "code",
   "execution_count": null,
   "metadata": {
    "cell_style": "split",
    "slideshow": {
     "slide_type": "fragment"
    }
   },
   "outputs": [],
   "source": [
    "e = Y - y_hat\n",
    "plt.plot(e)\n",
    "plt.show()"
   ]
  },
  {
   "cell_type": "markdown",
   "metadata": {
    "slideshow": {
     "slide_type": "slide"
    }
   },
   "source": [
    "# Solucion Iterativa"
   ]
  },
  {
   "cell_type": "code",
   "execution_count": null,
   "metadata": {
    "cell_style": "split",
    "slideshow": {
     "slide_type": "slide"
    }
   },
   "outputs": [],
   "source": [
    "X = np.arange(-2, 2, 0.25)\n",
    "Y = np.arange(-2, 2, 0.25)\n",
    "X, Y = np.meshgrid(X, Y)\n",
    "R = np.sqrt(X**2 + Y**2)\n",
    "Z = np.sin((1/2)*X**2 - (1/4)*Y**2 + 3)*np.cos(2*X + 1 - np.exp(Y))\n",
    "colormap = plt.cm.get_cmap('RdYlGn')\n",
    "znorm = Z - Z.min()\n",
    "znorm /= znorm.ptp()\n",
    "znorm.min(), znorm.max()\n",
    "color = colormap(znorm)"
   ]
  },
  {
   "cell_type": "code",
   "execution_count": null,
   "metadata": {
    "cell_style": "split"
   },
   "outputs": [],
   "source": [
    "ipv.figure()\n",
    "ipv.plot_surface(X, Y, Z, color=color[..., :3])\n",
    "ipv.show()"
   ]
  },
  {
   "cell_type": "markdown",
   "metadata": {
    "slideshow": {
     "slide_type": "slide"
    }
   },
   "source": [
    "### Gradient Descent"
   ]
  },
  {
   "cell_type": "markdown",
   "metadata": {
    "cell_style": "split",
    "slideshow": {
     "slide_type": "fragment"
    }
   },
   "source": [
    "Obtenemos el gradiente:\n",
    "    \n",
    "$$\\frac{\\partial J}{\\partial \\theta_0} = \\frac{1}{N}\\sum{(h(x_i) - y_i)}$$\n",
    "\n",
    "$$\\frac{\\partial J}{\\partial \\theta_1} = \\frac{1}{N}\\sum{(h(x_i) - y_i)}(x_i)$$"
   ]
  },
  {
   "cell_type": "markdown",
   "metadata": {
    "cell_style": "split",
    "slideshow": {
     "slide_type": "fragment"
    }
   },
   "source": [
    "##### Regla de ACTUALIZACIÓN DE LOS PARÁMETROS\n",
    "\n",
    "$$ \\theta_i := \\theta_i - \\alpha \\frac{\\partial J}{\\partial \\theta_i}$$"
   ]
  },
  {
   "cell_type": "markdown",
   "metadata": {
    "slideshow": {
     "slide_type": "slide"
    }
   },
   "source": [
    "$$\\min_{\\Theta} \\ \\  J(\\Theta) =  \\frac{1}{2N}\\sum_{i=1}^N{[h(X_i)  -y_i]^2 } $$"
   ]
  },
  {
   "cell_type": "code",
   "execution_count": null,
   "metadata": {
    "slideshow": {
     "slide_type": "fragment"
    }
   },
   "outputs": [],
   "source": [
    "def costFunc(X,Y,Theta_gd):\n",
    "    \"\"\"\n",
    "    Calcula la función de costo con un Theta dado\n",
    "    y el gradiende de la regresión lineal \n",
    "    \"\"\"\n",
    "    h_x = X@Theta_gd\n",
    "    e2  = np.square(h_x - Y)\n",
    "    J = np.sum(e2)/2*Y.shape[0]\n",
    "    J_grad = (1/Y.shape[0])*(X.T@(h_x-Y))\n",
    "    return J, J_grad"
   ]
  },
  {
   "cell_type": "markdown",
   "metadata": {
    "slideshow": {
     "slide_type": "slide"
    }
   },
   "source": [
    "Matricialmente\n",
    "$$ \\nabla J = \\frac{1}{N}X'(X\\Theta - Y) $$"
   ]
  },
  {
   "cell_type": "code",
   "execution_count": null,
   "metadata": {
    "slideshow": {
     "slide_type": "fragment"
    }
   },
   "outputs": [],
   "source": [
    "np.random.seed(2018)\n",
    "Theta_gd = np.random.randn(4)"
   ]
  },
  {
   "cell_type": "code",
   "execution_count": null,
   "metadata": {
    "slideshow": {
     "slide_type": "fragment"
    }
   },
   "outputs": [],
   "source": [
    "J , J_grad = costFunc(X,Y,Theta_gd)\n",
    "J_grad"
   ]
  },
  {
   "cell_type": "markdown",
   "metadata": {
    "slideshow": {
     "slide_type": "slide"
    }
   },
   "source": [
    "$$ \\theta_i := \\theta_i - \\alpha \\frac{\\partial J}{\\partial \\theta_i}$$"
   ]
  },
  {
   "cell_type": "code",
   "execution_count": null,
   "metadata": {
    "slideshow": {
     "slide_type": "fragment"
    }
   },
   "outputs": [],
   "source": [
    "def act_Theta(Theta,J_grad, alpha = 0.01):\n",
    "    return Theta - alpha*J_grad"
   ]
  },
  {
   "cell_type": "markdown",
   "metadata": {
    "slideshow": {
     "slide_type": "slide"
    }
   },
   "source": [
    "### Gradient Descent"
   ]
  },
  {
   "cell_type": "code",
   "execution_count": null,
   "metadata": {
    "slideshow": {
     "slide_type": "fragment"
    }
   },
   "outputs": [],
   "source": [
    "def gradientDescent(X,Y,Theta_gd,alpha=0.01,iteraciones=1000):\n",
    "    histJ = []\n",
    "    Jgrad = []\n",
    "    J , J_grad = costFunc(X,Y,Theta_gd)\n",
    "    histJ.append(J)\n",
    "    for i in range(1,iteraciones+1):\n",
    "        Theta_gd = act_Theta(Theta_gd,J_grad,alpha=alpha)\n",
    "        J , J_grad = costFunc(X,Y,Theta_gd)\n",
    "        histJ.append(J)\n",
    "        Jgrad.append(J_grad)\n",
    "        if i%500 ==0:\n",
    "            print(\"Función de costo en la iteración \", i, \": \",round(J,2))\n",
    "    return Theta_gd , histJ, Jgrad"
   ]
  },
  {
   "cell_type": "markdown",
   "metadata": {
    "slideshow": {
     "slide_type": "slide"
    }
   },
   "source": [
    "### Optimizamos"
   ]
  },
  {
   "cell_type": "code",
   "execution_count": null,
   "metadata": {
    "scrolled": true,
    "slideshow": {
     "slide_type": "fragment"
    }
   },
   "outputs": [],
   "source": [
    "Theta_opt , hist_J , Jhist= gradientDescent(X,Y,Theta_gd,\n",
    "                                      alpha=0.001,\n",
    "                                     iteraciones=10**5)\n",
    "plt.plot(hist_J)"
   ]
  },
  {
   "cell_type": "markdown",
   "metadata": {
    "slideshow": {
     "slide_type": "slide"
    }
   },
   "source": [
    "## Evaluamos"
   ]
  },
  {
   "cell_type": "code",
   "execution_count": null,
   "metadata": {
    "slideshow": {
     "slide_type": "fragment"
    }
   },
   "outputs": [],
   "source": [
    "costFunc(X,Y,reg_lin_Mat(X,Y)) # La funcion de costo con los parámetros óptimos"
   ]
  },
  {
   "cell_type": "code",
   "execution_count": null,
   "metadata": {
    "slideshow": {
     "slide_type": "fragment"
    }
   },
   "outputs": [],
   "source": [
    "print(Theta) # Solucion Analïtica \n",
    "print(Theta_opt) #Soluciòn iterativa\n",
    "\n",
    "Jhist[-1]"
   ]
  },
  {
   "cell_type": "markdown",
   "metadata": {
    "slideshow": {
     "slide_type": "slide"
    }
   },
   "source": [
    "### Visualizamos"
   ]
  },
  {
   "cell_type": "code",
   "execution_count": null,
   "metadata": {
    "slideshow": {
     "slide_type": "fragment"
    }
   },
   "outputs": [],
   "source": [
    "pred = X@Theta\n",
    "\n",
    "print(pred.shape)"
   ]
  },
  {
   "cell_type": "code",
   "execution_count": null,
   "metadata": {
    "scrolled": true,
    "slideshow": {
     "slide_type": "fragment"
    }
   },
   "outputs": [],
   "source": [
    "ipv.quickscatter(X[:, 1], X[:, 2], pred, size=1, marker=\"sphere\")"
   ]
  },
  {
   "cell_type": "markdown",
   "metadata": {
    "slideshow": {
     "slide_type": "slide"
    }
   },
   "source": [
    "# Sklearn"
   ]
  },
  {
   "cell_type": "code",
   "execution_count": null,
   "metadata": {
    "slideshow": {
     "slide_type": "fragment"
    }
   },
   "outputs": [],
   "source": [
    "from sklearn.linear_model import LinearRegression"
   ]
  },
  {
   "cell_type": "code",
   "execution_count": null,
   "metadata": {
    "cell_style": "split",
    "slideshow": {
     "slide_type": "fragment"
    }
   },
   "outputs": [],
   "source": [
    "model = LinearRegression()\n",
    "\n",
    "model.fit(X, Y)"
   ]
  },
  {
   "cell_type": "code",
   "execution_count": null,
   "metadata": {
    "cell_style": "split",
    "slideshow": {
     "slide_type": "fragment"
    }
   },
   "outputs": [],
   "source": [
    "pred = model.predict(X)"
   ]
  }
 ],
 "metadata": {
  "kernelspec": {
   "display_name": "Python (base)",
   "language": "python",
   "name": "base"
  },
  "language_info": {
   "codemirror_mode": {
    "name": "ipython",
    "version": 3
   },
   "file_extension": ".py",
   "mimetype": "text/x-python",
   "name": "python",
   "nbconvert_exporter": "python",
   "pygments_lexer": "ipython3",
   "version": "3.7.1"
  }
 },
 "nbformat": 4,
 "nbformat_minor": 2
}
