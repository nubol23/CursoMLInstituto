{
 "cells": [
  {
   "cell_type": "markdown",
   "metadata": {
    "slideshow": {
     "slide_type": "slide"
    }
   },
   "source": [
    "# Regresión Lineal"
   ]
  },
  {
   "cell_type": "code",
   "execution_count": 1,
   "metadata": {
    "slideshow": {
     "slide_type": "slide"
    }
   },
   "outputs": [],
   "source": [
    "import numpy as np\n",
    "import pandas as pd\n",
    "\n",
    "import matplotlib.pyplot as plt\n",
    "\n",
    "from ipywidgets import interact, interactive, fixed, interact_manual\n",
    "import ipywidgets as widgets\n",
    "\n",
    "import ipyvolume as ipv"
   ]
  },
  {
   "cell_type": "code",
   "execution_count": 2,
   "metadata": {
    "slideshow": {
     "slide_type": "slide"
    }
   },
   "outputs": [],
   "source": [
    "x= np.arange(0,40)\n",
    "x1 = np.linspace(0,40)\n",
    "np.random.seed(100)\n",
    "y = 3.4 + 6.7*x + np.random.randn(x.shape[0])*50"
   ]
  },
  {
   "cell_type": "code",
   "execution_count": 3,
   "metadata": {
    "slideshow": {
     "slide_type": "fragment"
    }
   },
   "outputs": [
    {
     "data": {
      "text/plain": [
       "(0, 400)"
      ]
     },
     "execution_count": 3,
     "metadata": {},
     "output_type": "execute_result"
    },
    {
     "data": {
      "image/png": "[encoded data removed]",
      "text/plain": [
       "<Figure size 432x288 with 1 Axes>"
      ]
     },
     "metadata": {
      "needs_background": "light"
     },
     "output_type": "display_data"
    }
   ],
   "source": [
    "plt.scatter(x,y)\n",
    "plt.ylabel(\"$y=f(x)$\")\n",
    "plt.xlabel(\"x\")\n",
    "plt.ylim(0,400)"
   ]
  },
  {
   "cell_type": "markdown",
   "metadata": {
    "slideshow": {
     "slide_type": "slide"
    }
   },
   "source": [
    "Lo que buscamos es encontrar una función que pueda \"replicar\" nuestros datos de manera coherente, parece razonable plantear una relación lineal para nuestro ejemplo\n",
    "\n",
    "$$ y_i = \\theta_0 + \\theta_1 x_i + \\epsilon_i$$\n",
    "\n",
    "PARTE DETERMINISTICA:  \n",
    "$$  \\theta_0 + \\theta_1 x_i $$\n",
    "\n",
    "PARTE ESTOCASTICA:\n",
    "$$\\epsilon_i$$"
   ]
  },
  {
   "cell_type": "code",
   "execution_count": 4,
   "metadata": {
    "cell_style": "split",
    "slideshow": {
     "slide_type": "fragment"
    }
   },
   "outputs": [],
   "source": [
    "def f_update(t0,t1):\n",
    "    plt.scatter(x,y)\n",
    "    plt.ylabel(\"y\")\n",
    "    plt.xlabel(\"x\")\n",
    "    plt.plot(x, t0 + t1*x, c=\"purple\")\n",
    "    plt.ylim(0,400)"
   ]
  },
  {
   "cell_type": "code",
   "execution_count": 5,
   "metadata": {
    "cell_style": "split",
    "slideshow": {
     "slide_type": "fragment"
    }
   },
   "outputs": [
    {
     "data": {
      "application/vnd.jupyter.widget-view+json": {
       "model_id": "ec0233365fc741249e7ad85f90f227d0",
       "version_major": 2,
       "version_minor": 0
      },
      "text/plain": [
       "interactive(children=(IntSlider(value=50, description='t0', max=200, min=-100), IntSlider(value=0, description…"
      ]
     },
     "metadata": {},
     "output_type": "display_data"
    }
   ],
   "source": [
    "interactive(f_update, t0=(-100,200), t1=(-30,30))"
   ]
  },
  {
   "cell_type": "markdown",
   "metadata": {
    "slideshow": {
     "slide_type": "slide"
    }
   },
   "source": [
    "# Necesitamos una medida para saber si estamos cerca de nuestro objetivo:"
   ]
  },
  {
   "cell_type": "markdown",
   "metadata": {
    "cell_style": "center",
    "slideshow": {
     "slide_type": "fragment"
    }
   },
   "source": [
    "$$ y_i - (\\theta_0 + \\theta_1 x_i) = \\epsilon_i$$\n",
    "\n",
    "* $\\theta_0$ y $\\theta_1$ son parámetros poblacionales, y no los llegaremos a conocer\n",
    "* Nos aproximaremos a ellos a través de un *ESTIMACIÓN DE PARÁMETROS*\n",
    "* ADVERTENCIA por temas de notación utilizaremos $\\theta_0$, $\\theta_1$ en lugar de  $\\hat{\\theta_0}$, $\\hat{\\theta_1}$.  "
   ]
  },
  {
   "cell_type": "markdown",
   "metadata": {
    "cell_style": "center",
    "slideshow": {
     "slide_type": "slide"
    }
   },
   "source": [
    "$$h(x_i|\\Theta) = \\hat{y_i} = \\theta_0 + \\theta_1 x_i $$\n",
    "Por simplificar la notación utilizaremos solamente:\n",
    "$$ h(x_i)$$ en lugar de: $$h(x_i|\\Theta)$$"
   ]
  },
  {
   "cell_type": "markdown",
   "metadata": {
    "slideshow": {
     "slide_type": "fragment"
    }
   },
   "source": [
    "### Definimos como métrica de error, el error cuadrático medio\n",
    "\n",
    "$$ \\frac{1}{2} (y_i - h(x_i))^2 $$"
   ]
  },
  {
   "cell_type": "markdown",
   "metadata": {
    "slideshow": {
     "slide_type": "slide"
    }
   },
   "source": [
    "### Sumando los errores"
   ]
  },
  {
   "cell_type": "markdown",
   "metadata": {
    "cell_style": "split",
    "slideshow": {
     "slide_type": "fragment"
    }
   },
   "source": [
    "$$ \\sum_{i=1}^m{\\epsilon_i}  \\sum_{i=1}^m{y_i - h(x_i)} $$\n"
   ]
  },
  {
   "cell_type": "markdown",
   "metadata": {
    "cell_style": "split",
    "slideshow": {
     "slide_type": "fragment"
    }
   },
   "source": [
    "* Al existir errores positivos y negativos usar una sumatoria simple tenderá a \"eliminar\" los errores. \n",
    "* Utilizamos la sumatoria de los cuadrados de los errores"
   ]
  },
  {
   "cell_type": "markdown",
   "metadata": {
    "cell_style": "center",
    "slideshow": {
     "slide_type": "fragment"
    }
   },
   "source": [
    " $$ \\sum_{i=1}^m{\\epsilon_i^2} = \\sum_{i=1}^m Loss(y_i, h(x_i))  = \\sum_{i=1}^m{[y_i - h(x_i)]^2} $$"
   ]
  },
  {
   "cell_type": "markdown",
   "metadata": {
    "slideshow": {
     "slide_type": "slide"
    }
   },
   "source": [
    "### Definimos la funcion de costo como\n",
    "\n",
    " $$\\tiny J(\\Theta) =  \\frac{1}{2m} \\sum_{i=1}^m{[y_i - h(x_i)]^2} $$"
   ]
  },
  {
   "cell_type": "code",
   "execution_count": 7,
   "metadata": {
    "cell_style": "split",
    "slideshow": {
     "slide_type": "fragment"
    }
   },
   "outputs": [],
   "source": [
    "def f_update_e(t0,t1):\n",
    "    plt.scatter(x,y)\n",
    "    plt.ylabel(\"y\")\n",
    "    plt.xlabel(\"x\")\n",
    "    plt.plot(x, t0 + t1*x, c=\"purple\")\n",
    "    plt.ylim(0,400)\n",
    "    print(round(1/len(y)*round(np.sum(np.square(y - (t0 + t1*x))),2 )))"
   ]
  },
  {
   "cell_type": "code",
   "execution_count": 8,
   "metadata": {
    "cell_style": "split",
    "slideshow": {
     "slide_type": "fragment"
    }
   },
   "outputs": [
    {
     "data": {
      "application/vnd.jupyter.widget-view+json": {
       "model_id": "098dccdfa65a450bbb478faeed6ca2b9",
       "version_major": 2,
       "version_minor": 0
      },
      "text/plain": [
       "interactive(children=(IntSlider(value=50, description='t0', max=200, min=-100), IntSlider(value=0, description…"
      ]
     },
     "metadata": {},
     "output_type": "display_data"
    }
   ],
   "source": [
    "interactive(f_update_e, t0=(-100,200), t1=(-30,30))"
   ]
  },
  {
   "cell_type": "markdown",
   "metadata": {
    "slideshow": {
     "slide_type": "slide"
    }
   },
   "source": [
    " ### Nuestro objetivo es: MINIMIZAR LA FUNCIÓN DE COSTO\n",
    " $$\\min_{\\Theta} \\ \\  J(\\Theta) =  \\frac{1}{2m}\\sum_{i=1}^m{[y_i - h(x_i)]^2} $$"
   ]
  },
  {
   "cell_type": "markdown",
   "metadata": {
    "slideshow": {
     "slide_type": "fragment"
    }
   },
   "source": [
    "Tendremos 2 formas de solucionar este problema.  \n",
    "* De manera Iterativa\n",
    "* De manera Analítica"
   ]
  },
  {
   "cell_type": "markdown",
   "metadata": {
    "slideshow": {
     "slide_type": "slide"
    }
   },
   "source": [
    "### Solución Analítica"
   ]
  },
  {
   "cell_type": "markdown",
   "metadata": {
    "cell_style": "split",
    "slideshow": {
     "slide_type": "fragment"
    }
   },
   "source": [
    "Derivamos nuestra función de costo respecto a los parámetros de nuestro vector $\\Theta$\n",
    "\n",
    "$$\\min_{\\Theta} \\ \\  J(\\Theta) =  \\sum_{i=1}^m{[y_i - h(x_i)]^2} $$"
   ]
  },
  {
   "cell_type": "markdown",
   "metadata": {
    "cell_style": "split",
    "slideshow": {
     "slide_type": "fragment"
    }
   },
   "source": [
    "Reexpresamos en términos de $\\theta_i$\n",
    "\n",
    "$$\\min_{\\Theta} \\ \\  J(\\Theta) =  \\sum_{i=1}^N{[y_i - \\theta_0 - \\theta_1x_i]^2} $$"
   ]
  },
  {
   "cell_type": "markdown",
   "metadata": {
    "slideshow": {
     "slide_type": "slide"
    }
   },
   "source": [
    "Derivamos y obtenemos el gradiente: \n",
    "\n",
    "$$\\frac{\\partial J}{\\partial \\theta_0} = 2\\sum{(y_i−\\theta_0 − \\theta_1 x_i)}(-1)$$\n",
    "\n",
    "$$\\frac{\\partial J}{\\partial \\theta_1} = 2\\sum{(y_i−\\theta_0 − \\theta_1 x_i)}(-x_i)$$"
   ]
  },
  {
   "cell_type": "markdown",
   "metadata": {
    "cell_style": "center",
    "slideshow": {
     "slide_type": "slide"
    }
   },
   "source": [
    "Igualamos a 0 \n",
    "\n",
    "$$\\nabla J = \\;\n",
    "\\begin{bmatrix}\n",
    " \\frac{\\partial J}{\\partial \\theta_0} \\\\\n",
    " \\frac{\\partial J}{\\partial \\theta_1} \n",
    "\\end{bmatrix}\n",
    "=\n",
    " \\begin{bmatrix}\n",
    "      2\\sum{(y_i−\\theta_0 − \\theta_1 x_i)}(-1) \\\\\n",
    "      2\\sum{(y_i−\\theta_0 − \\theta_1 x_i)}(-x_i)\\\\\n",
    "    \\end{bmatrix}\n",
    "     = \n",
    "     \\begin{bmatrix}\n",
    "     0 \\\\ \n",
    "     0\n",
    "     \\end{bmatrix}\n",
    "     $$"
   ]
  },
  {
   "cell_type": "markdown",
   "metadata": {
    "slideshow": {
     "slide_type": "fragment"
    }
   },
   "source": [
    "$$  \\begin{bmatrix}\n",
    "      \\sum{(y_i−\\theta_0 − \\theta_1 x_i)} \\\\\n",
    "      \\sum{(y_i−\\theta_0 − \\theta_1 x_i)}(x_i)\\\\\n",
    "    \\end{bmatrix}\n",
    "     = \n",
    "     \\begin{bmatrix}\n",
    "     0 \\\\ \n",
    "     0\n",
    "     \\end{bmatrix}\n",
    "     $$"
   ]
  },
  {
   "cell_type": "markdown",
   "metadata": {
    "slideshow": {
     "slide_type": "slide"
    }
   },
   "source": [
    "Resolviendo el sistema de ecuaciones obtenemos:"
   ]
  },
  {
   "cell_type": "markdown",
   "metadata": {
    "slideshow": {
     "slide_type": "fragment"
    }
   },
   "source": [
    "$$\\theta_0^* = \\bar{y} - \\theta_1 \\bar{x}$$"
   ]
  },
  {
   "cell_type": "markdown",
   "metadata": {
    "slideshow": {
     "slide_type": "fragment"
    }
   },
   "source": [
    "$$\\theta_1^* = \\frac{\\sum x_i y_i - \\bar{y}\\sum x_i}{\\sum x_i^2 - \\bar{x} \\sum{x_i}}$$"
   ]
  },
  {
   "cell_type": "markdown",
   "metadata": {
    "slideshow": {
     "slide_type": "slide"
    }
   },
   "source": [
    "## Esto se puede generalizar a un modelo lineal con más variables:"
   ]
  },
  {
   "cell_type": "markdown",
   "metadata": {
    "slideshow": {
     "slide_type": "fragment"
    }
   },
   "source": [
    "$$ y_i = \\theta_0 + \\theta_1x_{1i} + \\theta_2x_{2i} + ... + \\theta_kx_{ki} + \\epsilon_i $$"
   ]
  },
  {
   "cell_type": "markdown",
   "metadata": {
    "slideshow": {
     "slide_type": "fragment"
    }
   },
   "source": [
    "$$ Y = X\\Theta + U $$"
   ]
  },
  {
   "cell_type": "markdown",
   "metadata": {
    "slideshow": {
     "slide_type": "slide"
    }
   },
   "source": [
    "### De manera similar, se puede minimizar la función de costo de la función con k variables, llegando al siguiente resultado: "
   ]
  },
  {
   "cell_type": "markdown",
   "metadata": {
    "slideshow": {
     "slide_type": "fragment"
    }
   },
   "source": [
    "$$ \\Theta^* = (X'X)^{-1}X'Y$$"
   ]
  },
  {
   "cell_type": "markdown",
   "metadata": {
    "slideshow": {
     "slide_type": "slide"
    }
   },
   "source": [
    "## Leemos los datos"
   ]
  },
  {
   "cell_type": "code",
   "execution_count": 21,
   "metadata": {
    "cell_style": "split",
    "slideshow": {
     "slide_type": "fragment"
    }
   },
   "outputs": [
    {
     "data": {
      "text/html": [
       "<div>\n",
       "<style scoped>\n",
       "    .dataframe tbody tr th:only-of-type {\n",
       "        vertical-align: middle;\n",
       "    }\n",
       "\n",
       "    .dataframe tbody tr th {\n",
       "        vertical-align: top;\n",
       "    }\n",
       "\n",
       "    .dataframe thead th {\n",
       "        text-align: right;\n",
       "    }\n",
       "</style>\n",
       "<table border=\"1\" class=\"dataframe\">\n",
       "  <thead>\n",
       "    <tr style=\"text-align: right;\">\n",
       "      <th></th>\n",
       "      <th>Y</th>\n",
       "      <th>X1</th>\n",
       "      <th>X2</th>\n",
       "      <th>X3</th>\n",
       "    </tr>\n",
       "  </thead>\n",
       "  <tbody>\n",
       "    <tr>\n",
       "      <th>0</th>\n",
       "      <td>-6.852697</td>\n",
       "      <td>-60.0</td>\n",
       "      <td>3.60000</td>\n",
       "      <td>-2.160000</td>\n",
       "    </tr>\n",
       "    <tr>\n",
       "      <th>1</th>\n",
       "      <td>-6.887755</td>\n",
       "      <td>-59.7</td>\n",
       "      <td>3.56409</td>\n",
       "      <td>-2.127762</td>\n",
       "    </tr>\n",
       "    <tr>\n",
       "      <th>2</th>\n",
       "      <td>-5.490239</td>\n",
       "      <td>-59.4</td>\n",
       "      <td>3.52836</td>\n",
       "      <td>-2.095846</td>\n",
       "    </tr>\n",
       "    <tr>\n",
       "      <th>3</th>\n",
       "      <td>-6.912853</td>\n",
       "      <td>-59.1</td>\n",
       "      <td>3.49281</td>\n",
       "      <td>-2.064251</td>\n",
       "    </tr>\n",
       "    <tr>\n",
       "      <th>4</th>\n",
       "      <td>-5.121870</td>\n",
       "      <td>-58.8</td>\n",
       "      <td>3.45744</td>\n",
       "      <td>-2.032975</td>\n",
       "    </tr>\n",
       "  </tbody>\n",
       "</table>\n",
       "</div>"
      ],
      "text/plain": [
       "          Y    X1       X2        X3\n",
       "0 -6.852697 -60.0  3.60000 -2.160000\n",
       "1 -6.887755 -59.7  3.56409 -2.127762\n",
       "2 -5.490239 -59.4  3.52836 -2.095846\n",
       "3 -6.912853 -59.1  3.49281 -2.064251\n",
       "4 -5.121870 -58.8  3.45744 -2.032975"
      ]
     },
     "execution_count": 21,
     "metadata": {},
     "output_type": "execute_result"
    }
   ],
   "source": [
    "ex2 = pd.read_csv(\"ejemplo2.csv\", index_col=0)\n",
    "\n",
    "ex2.head()"
   ]
  },
  {
   "cell_type": "code",
   "execution_count": 22,
   "metadata": {
    "cell_style": "split",
    "slideshow": {
     "slide_type": "fragment"
    }
   },
   "outputs": [
    {
     "data": {
      "application/vnd.jupyter.widget-view+json": {
       "model_id": "e29219ce726d4beaaf65a55a99b92646",
       "version_major": 2,
       "version_minor": 0
      },
      "text/plain": [
       "VBox(children=(Figure(camera=PerspectiveCamera(fov=46.0, position=(0.0, 0.0, 2.0), quaternion=(0.0, 0.0, 0.0, …"
      ]
     },
     "metadata": {},
     "output_type": "display_data"
    }
   ],
   "source": [
    "ipv.quickscatter(ex2[\"X1\"],ex2[\"X2\"],ex2[\"Y\"], size=1, marker=\"sphere\")"
   ]
  },
  {
   "cell_type": "markdown",
   "metadata": {
    "slideshow": {
     "slide_type": "slide"
    }
   },
   "source": [
    "## Implementamos la optimización matricial\n",
    "\n",
    "$$ \\Theta^* = (X'X)^{-1}X'Y$$"
   ]
  },
  {
   "cell_type": "code",
   "execution_count": 23,
   "metadata": {
    "slideshow": {
     "slide_type": "fragment"
    }
   },
   "outputs": [],
   "source": [
    "def reg_lin_Mat(X,Y):\n",
    "    \"\"\"\n",
    "    X: Matriz de dimensiones (n,k+1) primera columna de 1\n",
    "    Y: Vector de salidas\n",
    "    \"\"\"\n",
    "    return np.linalg.inv(X.T@X)@(X.T@Y)"
   ]
  },
  {
   "cell_type": "code",
   "execution_count": 32,
   "metadata": {
    "slideshow": {
     "slide_type": "slide"
    }
   },
   "outputs": [],
   "source": [
    "Y = ex2[\"Y\"]\n",
    "type(Y)\n",
    "Y.head()\n",
    "\n",
    "Y = Y.values ## Cambiando el tipo de datos a arrays de numpy"
   ]
  },
  {
   "cell_type": "code",
   "execution_count": 35,
   "metadata": {
    "cell_style": "split",
    "slideshow": {
     "slide_type": "fragment"
    }
   },
   "outputs": [
    {
     "data": {
      "text/html": [
       "<div>\n",
       "<style scoped>\n",
       "    .dataframe tbody tr th:only-of-type {\n",
       "        vertical-align: middle;\n",
       "    }\n",
       "\n",
       "    .dataframe tbody tr th {\n",
       "        vertical-align: top;\n",
       "    }\n",
       "\n",
       "    .dataframe thead th {\n",
       "        text-align: right;\n",
       "    }\n",
       "</style>\n",
       "<table border=\"1\" class=\"dataframe\">\n",
       "  <thead>\n",
       "    <tr style=\"text-align: right;\">\n",
       "      <th></th>\n",
       "      <th>X0</th>\n",
       "      <th>X1</th>\n",
       "      <th>X2</th>\n",
       "      <th>X3</th>\n",
       "    </tr>\n",
       "  </thead>\n",
       "  <tbody>\n",
       "    <tr>\n",
       "      <th>0</th>\n",
       "      <td>1</td>\n",
       "      <td>-60.0</td>\n",
       "      <td>3.60000</td>\n",
       "      <td>-2.160000</td>\n",
       "    </tr>\n",
       "    <tr>\n",
       "      <th>1</th>\n",
       "      <td>1</td>\n",
       "      <td>-59.7</td>\n",
       "      <td>3.56409</td>\n",
       "      <td>-2.127762</td>\n",
       "    </tr>\n",
       "    <tr>\n",
       "      <th>2</th>\n",
       "      <td>1</td>\n",
       "      <td>-59.4</td>\n",
       "      <td>3.52836</td>\n",
       "      <td>-2.095846</td>\n",
       "    </tr>\n",
       "    <tr>\n",
       "      <th>3</th>\n",
       "      <td>1</td>\n",
       "      <td>-59.1</td>\n",
       "      <td>3.49281</td>\n",
       "      <td>-2.064251</td>\n",
       "    </tr>\n",
       "    <tr>\n",
       "      <th>4</th>\n",
       "      <td>1</td>\n",
       "      <td>-58.8</td>\n",
       "      <td>3.45744</td>\n",
       "      <td>-2.032975</td>\n",
       "    </tr>\n",
       "  </tbody>\n",
       "</table>\n",
       "</div>"
      ],
      "text/plain": [
       "   X0    X1       X2        X3\n",
       "0   1 -60.0  3.60000 -2.160000\n",
       "1   1 -59.7  3.56409 -2.127762\n",
       "2   1 -59.4  3.52836 -2.095846\n",
       "3   1 -59.1  3.49281 -2.064251\n",
       "4   1 -58.8  3.45744 -2.032975"
      ]
     },
     "execution_count": 35,
     "metadata": {},
     "output_type": "execute_result"
    }
   ],
   "source": [
    "X = ex2.iloc[:,1:].copy()\n",
    "X.insert(0,\"X0\",1) #index, name, value\n",
    "X.head()"
   ]
  },
  {
   "cell_type": "code",
   "execution_count": 36,
   "metadata": {
    "cell_style": "split",
    "slideshow": {
     "slide_type": "fragment"
    }
   },
   "outputs": [],
   "source": [
    "X = X.values"
   ]
  },
  {
   "cell_type": "code",
   "execution_count": 37,
   "metadata": {
    "slideshow": {
     "slide_type": "slide"
    }
   },
   "outputs": [
    {
     "name": "stdout",
     "output_type": "stream",
     "text": [
      "[-0.05656091  0.0047699  -0.46871896  2.08066242]\n"
     ]
    }
   ],
   "source": [
    "Theta = reg_lin_Mat(X,Y)\n",
    "\n",
    "print(Theta)"
   ]
  },
  {
   "cell_type": "code",
   "execution_count": 38,
   "metadata": {
    "cell_style": "split",
    "slideshow": {
     "slide_type": "fragment"
    }
   },
   "outputs": [],
   "source": [
    "y_hat = X@Theta"
   ]
  },
  {
   "cell_type": "code",
   "execution_count": 39,
   "metadata": {
    "cell_style": "split",
    "slideshow": {
     "slide_type": "fragment"
    }
   },
   "outputs": [
    {
     "data": {
      "image/png": "[encoded data removed]",
      "text/plain": [
       "<Figure size 432x288 with 1 Axes>"
      ]
     },
     "metadata": {
      "needs_background": "light"
     },
     "output_type": "display_data"
    }
   ],
   "source": [
    "e = Y - y_hat\n",
    "plt.plot(e)\n",
    "plt.show()"
   ]
  },
  {
   "cell_type": "markdown",
   "metadata": {
    "slideshow": {
     "slide_type": "slide"
    }
   },
   "source": [
    "# Solucion Iterativa"
   ]
  },
  {
   "cell_type": "code",
   "execution_count": 11,
   "metadata": {
    "cell_style": "split",
    "slideshow": {
     "slide_type": "slide"
    }
   },
   "outputs": [],
   "source": [
    "X = np.arange(-2, 2, 0.25)\n",
    "Y = np.arange(-2, 2, 0.25)\n",
    "X, Y = np.meshgrid(X, Y)\n",
    "R = np.sqrt(X**2 + Y**2)\n",
    "Z = np.sin((1/2)*X**2 - (1/4)*Y**2 + 3)*np.cos(2*X + 1 - np.exp(Y))\n",
    "colormap = plt.cm.get_cmap('RdYlGn')\n",
    "znorm = Z - Z.min()\n",
    "znorm /= znorm.ptp()\n",
    "znorm.min(), znorm.max()\n",
    "color = colormap(znorm)"
   ]
  },
  {
   "cell_type": "code",
   "execution_count": 12,
   "metadata": {
    "cell_style": "split"
   },
   "outputs": [
    {
     "data": {
      "application/vnd.jupyter.widget-view+json": {
       "model_id": "55a3077949e14694a8a8221f676f517b",
       "version_major": 2,
       "version_minor": 0
      },
      "text/plain": [
       "VBox(children=(Figure(camera=PerspectiveCamera(fov=46.0, position=(0.0, 0.0, 2.0), quaternion=(0.0, 0.0, 0.0, …"
      ]
     },
     "metadata": {},
     "output_type": "display_data"
    }
   ],
   "source": [
    "ipv.figure()\n",
    "ipv.plot_surface(X, Y, Z, color=color[..., :3])\n",
    "ipv.show()"
   ]
  },
  {
   "cell_type": "markdown",
   "metadata": {
    "slideshow": {
     "slide_type": "slide"
    }
   },
   "source": [
    "### Gradient Descent"
   ]
  },
  {
   "cell_type": "markdown",
   "metadata": {
    "cell_style": "split",
    "slideshow": {
     "slide_type": "fragment"
    }
   },
   "source": [
    "Obtenemos el gradiente:\n",
    "    \n",
    "$$\\frac{\\partial J}{\\partial \\theta_0} = \\frac{1}{N}\\sum{(h(x_i) - y_i)}$$\n",
    "\n",
    "$$\\frac{\\partial J}{\\partial \\theta_1} = \\frac{1}{N}\\sum{(h(x_i) - y_i)}(x_i)$$"
   ]
  },
  {
   "cell_type": "markdown",
   "metadata": {
    "cell_style": "split",
    "slideshow": {
     "slide_type": "fragment"
    }
   },
   "source": [
    "##### Regla de ACTUALIZACIÓN DE LOS PARÁMETROS\n",
    "\n",
    "$$ \\theta_i := \\theta_i - \\alpha \\frac{\\partial J}{\\partial \\theta_i}$$"
   ]
  },
  {
   "cell_type": "markdown",
   "metadata": {
    "slideshow": {
     "slide_type": "slide"
    }
   },
   "source": [
    "$$\\min_{\\Theta} \\ \\  J(\\Theta) =  \\frac{1}{2N}\\sum_{i=1}^N{[h(X_i)  -y_i]^2 } $$"
   ]
  },
  {
   "cell_type": "code",
   "execution_count": 40,
   "metadata": {
    "slideshow": {
     "slide_type": "fragment"
    }
   },
   "outputs": [],
   "source": [
    "def costFunc(X,Y,Theta_gd):\n",
    "    \"\"\"\n",
    "    Calcula la función de costo con un Theta dado\n",
    "    y el gradiende de la regresión lineal \n",
    "    \"\"\"\n",
    "    h_x = X@Theta_gd\n",
    "    e2  = np.square(h_x - Y)\n",
    "    J = np.sum(e2)/2*Y.shape[0]\n",
    "    J_grad = (1/Y.shape[0])*(X.T@(h_x-Y))\n",
    "    return J, J_grad"
   ]
  },
  {
   "cell_type": "markdown",
   "metadata": {
    "slideshow": {
     "slide_type": "slide"
    }
   },
   "source": [
    "Matricialmente\n",
    "$$ \\nabla J = \\frac{1}{N}X'(X\\Theta - Y) $$"
   ]
  },
  {
   "cell_type": "code",
   "execution_count": 42,
   "metadata": {
    "slideshow": {
     "slide_type": "fragment"
    }
   },
   "outputs": [],
   "source": [
    "np.random.seed(2018)\n",
    "Theta_gd = np.random.randn(4)"
   ]
  },
  {
   "cell_type": "code",
   "execution_count": 43,
   "metadata": {
    "slideshow": {
     "slide_type": "fragment"
    }
   },
   "outputs": [
    {
     "data": {
      "text/plain": [
       "array([  2.85195708, 604.02706821,   6.27329926,  12.66909429])"
      ]
     },
     "execution_count": 43,
     "metadata": {},
     "output_type": "execute_result"
    }
   ],
   "source": [
    "J , J_grad = costFunc(X,Y,Theta_gd)\n",
    "J_grad"
   ]
  },
  {
   "cell_type": "markdown",
   "metadata": {
    "slideshow": {
     "slide_type": "slide"
    }
   },
   "source": [
    "$$ \\theta_i := \\theta_i - \\alpha \\frac{\\partial J}{\\partial \\theta_i}$$"
   ]
  },
  {
   "cell_type": "code",
   "execution_count": 44,
   "metadata": {
    "slideshow": {
     "slide_type": "fragment"
    }
   },
   "outputs": [],
   "source": [
    "def act_Theta(Theta,J_grad, alpha = 0.01):\n",
    "    return Theta - alpha*J_grad"
   ]
  },
  {
   "cell_type": "markdown",
   "metadata": {
    "slideshow": {
     "slide_type": "slide"
    }
   },
   "source": [
    "### Gradient Descent"
   ]
  },
  {
   "cell_type": "code",
   "execution_count": 45,
   "metadata": {
    "slideshow": {
     "slide_type": "fragment"
    }
   },
   "outputs": [],
   "source": [
    "def gradientDescent(X,Y,Theta_gd,alpha=0.01,iteraciones=1000):\n",
    "    histJ = []\n",
    "    Jgrad = []\n",
    "    J , J_grad = costFunc(X,Y,Theta_gd)\n",
    "    histJ.append(J)\n",
    "    for i in range(1,iteraciones+1):\n",
    "        Theta_gd = act_Theta(Theta_gd,J_grad,alpha=alpha)\n",
    "        J , J_grad = costFunc(X,Y,Theta_gd)\n",
    "        histJ.append(J)\n",
    "        Jgrad.append(J_grad)\n",
    "        if i%500 ==0:\n",
    "            print(\"Función de costo en la iteración \", i, \": \",round(J,2))\n",
    "    return Theta_gd , histJ, Jgrad"
   ]
  },
  {
   "cell_type": "markdown",
   "metadata": {
    "slideshow": {
     "slide_type": "slide"
    }
   },
   "source": [
    "### Optimizamos"
   ]
  },
  {
   "cell_type": "code",
   "execution_count": 46,
   "metadata": {
    "scrolled": true,
    "slideshow": {
     "slide_type": "fragment"
    }
   },
   "outputs": [
    {
     "name": "stdout",
     "output_type": "stream",
     "text": [
      "Función de costo en la iteración  500 :  206168.37\n",
      "Función de costo en la iteración  1000 :  137228.4\n",
      "Función de costo en la iteración  1500 :  118655.05\n",
      "Función de costo en la iteración  2000 :  105318.99\n",
      "Función de costo en la iteración  2500 :  94626.61\n",
      "Función de costo en la iteración  3000 :  85881.21\n",
      "Función de costo en la iteración  3500 :  78624.88\n",
      "Función de costo en la iteración  4000 :  72525.82\n",
      "Función de costo en la iteración  4500 :  67340.09\n",
      "Función de costo en la iteración  5000 :  62886.48\n",
      "Función de costo en la iteración  5500 :  59028.71\n",
      "Función de costo en la iteración  6000 :  55662.91\n",
      "Función de costo en la iteración  6500 :  52708.82\n",
      "Función de costo en la iteración  7000 :  50103.41\n",
      "Función de costo en la iteración  7500 :  47796.45\n",
      "Función de costo en la iteración  8000 :  45747.26\n",
      "Función de costo en la iteración  8500 :  43922.44\n",
      "Función de costo en la iteración  9000 :  42294.14\n",
      "Función de costo en la iteración  9500 :  40838.91\n",
      "Función de costo en la iteración  10000 :  39536.7\n",
      "Función de costo en la iteración  10500 :  38370.28\n",
      "Función de costo en la iteración  11000 :  37324.69\n",
      "Función de costo en la iteración  11500 :  36386.84\n",
      "Función de costo en la iteración  12000 :  35545.22\n",
      "Función de costo en la iteración  12500 :  34789.7\n",
      "Función de costo en la iteración  13000 :  34111.25\n",
      "Función de costo en la iteración  13500 :  33501.88\n",
      "Función de costo en la iteración  14000 :  32954.46\n",
      "Función de costo en la iteración  14500 :  32462.63\n",
      "Función de costo en la iteración  15000 :  32020.69\n",
      "Función de costo en la iteración  15500 :  31623.55\n",
      "Función de costo en la iteración  16000 :  31266.64\n",
      "Función de costo en la iteración  16500 :  30945.87\n",
      "Función de costo en la iteración  17000 :  30657.57\n",
      "Función de costo en la iteración  17500 :  30398.45\n",
      "Función de costo en la iteración  18000 :  30165.55\n",
      "Función de costo en la iteración  18500 :  29956.2\n",
      "Función de costo en la iteración  19000 :  29768.03\n",
      "Función de costo en la iteración  19500 :  29598.89\n",
      "Función de costo en la iteración  20000 :  29446.86\n",
      "Función de costo en la iteración  20500 :  29310.2\n",
      "Función de costo en la iteración  21000 :  29187.36\n",
      "Función de costo en la iteración  21500 :  29076.94\n",
      "Función de costo en la iteración  22000 :  28977.69\n",
      "Función de costo en la iteración  22500 :  28888.47\n",
      "Función de costo en la iteración  23000 :  28808.27\n",
      "Función de costo en la iteración  23500 :  28736.18\n",
      "Función de costo en la iteración  24000 :  28671.38\n",
      "Función de costo en la iteración  24500 :  28613.13\n",
      "Función de costo en la iteración  25000 :  28560.77\n",
      "Función de costo en la iteración  25500 :  28513.7\n",
      "Función de costo en la iteración  26000 :  28471.39\n",
      "Función de costo en la iteración  26500 :  28433.36\n",
      "Función de costo en la iteración  27000 :  28399.17\n",
      "Función de costo en la iteración  27500 :  28368.44\n",
      "Función de costo en la iteración  28000 :  28340.82\n",
      "Función de costo en la iteración  28500 :  28315.99\n",
      "Función de costo en la iteración  29000 :  28293.67\n",
      "Función de costo en la iteración  29500 :  28273.61\n",
      "Función de costo en la iteración  30000 :  28255.57\n",
      "Función de costo en la iteración  30500 :  28239.36\n",
      "Función de costo en la iteración  31000 :  28224.79\n",
      "Función de costo en la iteración  31500 :  28211.69\n",
      "Función de costo en la iteración  32000 :  28199.92\n",
      "Función de costo en la iteración  32500 :  28189.33\n",
      "Función de costo en la iteración  33000 :  28179.82\n",
      "Función de costo en la iteración  33500 :  28171.26\n",
      "Función de costo en la iteración  34000 :  28163.58\n",
      "Función de costo en la iteración  34500 :  28156.67\n",
      "Función de costo en la iteración  35000 :  28150.45\n",
      "Función de costo en la iteración  35500 :  28144.87\n",
      "Función de costo en la iteración  36000 :  28139.85\n",
      "Función de costo en la iteración  36500 :  28135.34\n",
      "Función de costo en la iteración  37000 :  28131.28\n",
      "Función de costo en la iteración  37500 :  28127.64\n",
      "Función de costo en la iteración  38000 :  28124.36\n",
      "Función de costo en la iteración  38500 :  28121.42\n",
      "Función de costo en la iteración  39000 :  28118.77\n",
      "Función de costo en la iteración  39500 :  28116.39\n",
      "Función de costo en la iteración  40000 :  28114.25\n",
      "Función de costo en la iteración  40500 :  28112.32\n",
      "Función de costo en la iteración  41000 :  28110.6\n",
      "Función de costo en la iteración  41500 :  28109.04\n",
      "Función de costo en la iteración  42000 :  28107.65\n",
      "Función de costo en la iteración  42500 :  28106.39\n",
      "Función de costo en la iteración  43000 :  28105.26\n",
      "Función de costo en la iteración  43500 :  28104.25\n",
      "Función de costo en la iteración  44000 :  28103.33\n",
      "Función de costo en la iteración  44500 :  28102.51\n",
      "Función de costo en la iteración  45000 :  28101.78\n",
      "Función de costo en la iteración  45500 :  28101.11\n",
      "Función de costo en la iteración  46000 :  28100.52\n",
      "Función de costo en la iteración  46500 :  28099.98\n",
      "Función de costo en la iteración  47000 :  28099.5\n",
      "Función de costo en la iteración  47500 :  28099.07\n",
      "Función de costo en la iteración  48000 :  28098.68\n",
      "Función de costo en la iteración  48500 :  28098.33\n",
      "Función de costo en la iteración  49000 :  28098.02\n",
      "Función de costo en la iteración  49500 :  28097.74\n",
      "Función de costo en la iteración  50000 :  28097.48\n",
      "Función de costo en la iteración  50500 :  28097.25\n",
      "Función de costo en la iteración  51000 :  28097.05\n",
      "Función de costo en la iteración  51500 :  28096.86\n",
      "Función de costo en la iteración  52000 :  28096.7\n",
      "Función de costo en la iteración  52500 :  28096.55\n",
      "Función de costo en la iteración  53000 :  28096.42\n",
      "Función de costo en la iteración  53500 :  28096.3\n",
      "Función de costo en la iteración  54000 :  28096.19\n",
      "Función de costo en la iteración  54500 :  28096.09\n",
      "Función de costo en la iteración  55000 :  28096.0\n",
      "Función de costo en la iteración  55500 :  28095.92\n",
      "Función de costo en la iteración  56000 :  28095.85\n",
      "Función de costo en la iteración  56500 :  28095.79\n",
      "Función de costo en la iteración  57000 :  28095.73\n",
      "Función de costo en la iteración  57500 :  28095.68\n",
      "Función de costo en la iteración  58000 :  28095.63\n",
      "Función de costo en la iteración  58500 :  28095.59\n",
      "Función de costo en la iteración  59000 :  28095.56\n",
      "Función de costo en la iteración  59500 :  28095.52\n",
      "Función de costo en la iteración  60000 :  28095.49\n",
      "Función de costo en la iteración  60500 :  28095.47\n",
      "Función de costo en la iteración  61000 :  28095.44\n",
      "Función de costo en la iteración  61500 :  28095.42\n",
      "Función de costo en la iteración  62000 :  28095.4\n",
      "Función de costo en la iteración  62500 :  28095.38\n",
      "Función de costo en la iteración  63000 :  28095.37\n",
      "Función de costo en la iteración  63500 :  28095.35\n",
      "Función de costo en la iteración  64000 :  28095.34\n",
      "Función de costo en la iteración  64500 :  28095.33\n",
      "Función de costo en la iteración  65000 :  28095.32\n",
      "Función de costo en la iteración  65500 :  28095.31\n",
      "Función de costo en la iteración  66000 :  28095.3\n",
      "Función de costo en la iteración  66500 :  28095.29\n",
      "Función de costo en la iteración  67000 :  28095.29\n",
      "Función de costo en la iteración  67500 :  28095.28\n",
      "Función de costo en la iteración  68000 :  28095.27\n",
      "Función de costo en la iteración  68500 :  28095.27\n",
      "Función de costo en la iteración  69000 :  28095.26\n",
      "Función de costo en la iteración  69500 :  28095.26\n",
      "Función de costo en la iteración  70000 :  28095.26\n",
      "Función de costo en la iteración  70500 :  28095.25\n",
      "Función de costo en la iteración  71000 :  28095.25\n",
      "Función de costo en la iteración  71500 :  28095.25\n",
      "Función de costo en la iteración  72000 :  28095.25\n",
      "Función de costo en la iteración  72500 :  28095.24\n",
      "Función de costo en la iteración  73000 :  28095.24\n",
      "Función de costo en la iteración  73500 :  28095.24\n",
      "Función de costo en la iteración  74000 :  28095.24\n",
      "Función de costo en la iteración  74500 :  28095.24\n",
      "Función de costo en la iteración  75000 :  28095.24\n",
      "Función de costo en la iteración  75500 :  28095.23\n",
      "Función de costo en la iteración  76000 :  28095.23\n",
      "Función de costo en la iteración  76500 :  28095.23\n",
      "Función de costo en la iteración  77000 :  28095.23\n",
      "Función de costo en la iteración  77500 :  28095.23\n",
      "Función de costo en la iteración  78000 :  28095.23\n",
      "Función de costo en la iteración  78500 :  28095.23\n",
      "Función de costo en la iteración  79000 :  28095.23\n",
      "Función de costo en la iteración  79500 :  28095.23\n",
      "Función de costo en la iteración  80000 :  28095.23\n",
      "Función de costo en la iteración  80500 :  28095.23\n",
      "Función de costo en la iteración  81000 :  28095.23\n",
      "Función de costo en la iteración  81500 :  28095.23\n",
      "Función de costo en la iteración  82000 :  28095.23\n",
      "Función de costo en la iteración  82500 :  28095.23\n"
     ]
    },
    {
     "name": "stdout",
     "output_type": "stream",
     "text": [
      "Función de costo en la iteración  83000 :  28095.23\n",
      "Función de costo en la iteración  83500 :  28095.23\n",
      "Función de costo en la iteración  84000 :  28095.23\n",
      "Función de costo en la iteración  84500 :  28095.23\n",
      "Función de costo en la iteración  85000 :  28095.23\n",
      "Función de costo en la iteración  85500 :  28095.23\n",
      "Función de costo en la iteración  86000 :  28095.23\n",
      "Función de costo en la iteración  86500 :  28095.23\n",
      "Función de costo en la iteración  87000 :  28095.23\n",
      "Función de costo en la iteración  87500 :  28095.23\n",
      "Función de costo en la iteración  88000 :  28095.23\n",
      "Función de costo en la iteración  88500 :  28095.23\n",
      "Función de costo en la iteración  89000 :  28095.23\n",
      "Función de costo en la iteración  89500 :  28095.23\n",
      "Función de costo en la iteración  90000 :  28095.23\n",
      "Función de costo en la iteración  90500 :  28095.23\n",
      "Función de costo en la iteración  91000 :  28095.23\n",
      "Función de costo en la iteración  91500 :  28095.23\n",
      "Función de costo en la iteración  92000 :  28095.23\n",
      "Función de costo en la iteración  92500 :  28095.23\n",
      "Función de costo en la iteración  93000 :  28095.23\n",
      "Función de costo en la iteración  93500 :  28095.23\n",
      "Función de costo en la iteración  94000 :  28095.23\n",
      "Función de costo en la iteración  94500 :  28095.23\n",
      "Función de costo en la iteración  95000 :  28095.23\n",
      "Función de costo en la iteración  95500 :  28095.23\n",
      "Función de costo en la iteración  96000 :  28095.22\n",
      "Función de costo en la iteración  96500 :  28095.22\n",
      "Función de costo en la iteración  97000 :  28095.22\n",
      "Función de costo en la iteración  97500 :  28095.22\n",
      "Función de costo en la iteración  98000 :  28095.22\n",
      "Función de costo en la iteración  98500 :  28095.22\n",
      "Función de costo en la iteración  99000 :  28095.22\n",
      "Función de costo en la iteración  99500 :  28095.22\n",
      "Función de costo en la iteración  100000 :  28095.22\n"
     ]
    },
    {
     "data": {
      "text/plain": [
       "[<matplotlib.lines.Line2D at 0x7fd51fce8080>]"
      ]
     },
     "execution_count": 46,
     "metadata": {},
     "output_type": "execute_result"
    },
    {
     "data": {
      "image/png": "[encoded data removed]",
      "text/plain": [
       "<Figure size 432x288 with 1 Axes>"
      ]
     },
     "metadata": {
      "needs_background": "light"
     },
     "output_type": "display_data"
    }
   ],
   "source": [
    "Theta_opt , hist_J , Jhist= gradientDescent(X,Y,Theta_gd,\n",
    "                                      alpha=0.001,\n",
    "                                     iteraciones=10**5)\n",
    "plt.plot(hist_J)"
   ]
  },
  {
   "cell_type": "markdown",
   "metadata": {
    "slideshow": {
     "slide_type": "slide"
    }
   },
   "source": [
    "## Evaluamos"
   ]
  },
  {
   "cell_type": "code",
   "execution_count": 47,
   "metadata": {
    "slideshow": {
     "slide_type": "fragment"
    }
   },
   "outputs": [
    {
     "data": {
      "text/plain": [
       "(28095.224873956373,\n",
       " array([-2.55351296e-16,  1.92130756e-13, -3.81916720e-16,  4.04010159e-15]))"
      ]
     },
     "execution_count": 47,
     "metadata": {},
     "output_type": "execute_result"
    }
   ],
   "source": [
    "costFunc(X,Y,reg_lin_Mat(X,Y)) # La funcion de costo con los parámetros óptimos"
   ]
  },
  {
   "cell_type": "code",
   "execution_count": 48,
   "metadata": {
    "slideshow": {
     "slide_type": "fragment"
    }
   },
   "outputs": [
    {
     "name": "stdout",
     "output_type": "stream",
     "text": [
      "[-0.05656091  0.0047699  -0.46871896  2.08066242]\n",
      "[-0.05656051  0.0047716  -0.4687194   2.08058357]\n"
     ]
    },
    {
     "data": {
      "text/plain": [
       "array([ 4.26590426e-08,  1.81527929e-07, -4.68859754e-08, -8.40380920e-06])"
      ]
     },
     "execution_count": 48,
     "metadata": {},
     "output_type": "execute_result"
    }
   ],
   "source": [
    "print(Theta) # Solucion Analïtica \n",
    "print(Theta_opt) #Soluciòn iterativa\n",
    "\n",
    "Jhist[-1]"
   ]
  },
  {
   "cell_type": "markdown",
   "metadata": {
    "slideshow": {
     "slide_type": "slide"
    }
   },
   "source": [
    "### Visualizamos"
   ]
  },
  {
   "cell_type": "code",
   "execution_count": 53,
   "metadata": {
    "slideshow": {
     "slide_type": "fragment"
    }
   },
   "outputs": [
    {
     "name": "stdout",
     "output_type": "stream",
     "text": [
      "(400,)\n"
     ]
    }
   ],
   "source": [
    "pred = X@Theta\n",
    "\n",
    "print(pred.shape)"
   ]
  },
  {
   "cell_type": "code",
   "execution_count": 56,
   "metadata": {
    "scrolled": true,
    "slideshow": {
     "slide_type": "fragment"
    }
   },
   "outputs": [
    {
     "data": {
      "application/vnd.jupyter.widget-view+json": {
       "model_id": "0f5eb441f79b4f57a34debc952f43bb1",
       "version_major": 2,
       "version_minor": 0
      },
      "text/plain": [
       "VBox(children=(Figure(camera=PerspectiveCamera(fov=46.0, position=(0.0, 0.0, 2.0), quaternion=(0.0, 0.0, 0.0, …"
      ]
     },
     "metadata": {},
     "output_type": "display_data"
    }
   ],
   "source": [
    "ipv.quickscatter(X[:, 1], X[:, 2], pred, size=1, marker=\"sphere\")"
   ]
  },
  {
   "cell_type": "markdown",
   "metadata": {
    "slideshow": {
     "slide_type": "slide"
    }
   },
   "source": [
    "# Sklearn"
   ]
  },
  {
   "cell_type": "code",
   "execution_count": 57,
   "metadata": {
    "slideshow": {
     "slide_type": "fragment"
    }
   },
   "outputs": [],
   "source": [
    "from sklearn.linear_model import LinearRegression"
   ]
  },
  {
   "cell_type": "code",
   "execution_count": 58,
   "metadata": {
    "cell_style": "split",
    "slideshow": {
     "slide_type": "fragment"
    }
   },
   "outputs": [],
   "source": [
    "model = LinearRegression()\n",
    "\n",
    "model.fit(X, Y)"
   ]
  },
  {
   "cell_type": "code",
   "execution_count": 60,
   "metadata": {
    "cell_style": "split",
    "slideshow": {
     "slide_type": "fragment"
    }
   },
   "outputs": [],
   "source": [
    "pred = model.predict(X)"
   ]
  }
 ],
 "metadata": {
  "celltoolbar": "Slideshow",
  "kernelspec": {
   "display_name": "Python (base)",
   "language": "python",
   "name": "base"
  },
  "language_info": {
   "codemirror_mode": {
    "name": "ipython",
    "version": 3
   },
   "file_extension": ".py",
   "mimetype": "text/x-python",
   "name": "python",
   "nbconvert_exporter": "python",
   "pygments_lexer": "ipython3",
   "version": "3.7.1"
  }
 },
 "nbformat": 4,
 "nbformat_minor": 2
}
