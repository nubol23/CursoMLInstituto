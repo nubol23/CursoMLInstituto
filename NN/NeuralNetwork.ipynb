{
 "cells": [
  {
   "cell_type": "markdown",
   "metadata": {
    "slideshow": {
     "slide_type": "slide"
    }
   },
   "source": [
    "# La Red Neuronal"
   ]
  },
  {
   "cell_type": "code",
   "execution_count": null,
   "metadata": {
    "slideshow": {
     "slide_type": "skip"
    }
   },
   "outputs": [],
   "source": [
    "!pip3 install torch torchvision"
   ]
  },
  {
   "cell_type": "code",
   "execution_count": null,
   "metadata": {
    "slideshow": {
     "slide_type": "slide"
    }
   },
   "outputs": [],
   "source": [
    "import numpy as np\n",
    "import cv2\n",
    "from keras.datasets import mnist\n",
    "from tqdm import tqdm\n",
    "from sklearn.metrics import accuracy_score, confusion_matrix\n",
    "import matplotlib.pyplot as plt\n",
    "\n",
    "from random import randint"
   ]
  },
  {
   "cell_type": "markdown",
   "metadata": {
    "slideshow": {
     "slide_type": "slide"
    }
   },
   "source": [
    "# Lectura y Prerocesamiento de Datos"
   ]
  },
  {
   "cell_type": "code",
   "execution_count": null,
   "metadata": {
    "slideshow": {
     "slide_type": "skip"
    }
   },
   "outputs": [],
   "source": [
    "# (x_train, y_train), (x_test, y_test) = mnist.load_data()"
   ]
  },
  {
   "cell_type": "code",
   "execution_count": null,
   "metadata": {
    "slideshow": {
     "slide_type": "skip"
    }
   },
   "outputs": [],
   "source": [
    "# x_train = x_train.astype(float) / 255.\n",
    "# x_test = x_test.astype(float) / 255.\n",
    "\n",
    "# # extraemos los últimos 10K datos para validación\n",
    "# x_train, x_val = x_train[:-10000], x_train[-10000:]\n",
    "# y_train, y_val = y_train[:-10000], y_train[-10000:]\n",
    "\n",
    "# x_train = x_train.reshape([x_train.shape[0], -1])\n",
    "# x_val = x_val.reshape([x_val.shape[0], -1])\n",
    "# x_test = x_test.reshape([x_test.shape[0], -1])"
   ]
  },
  {
   "cell_type": "code",
   "execution_count": null,
   "metadata": {
    "slideshow": {
     "slide_type": "skip"
    }
   },
   "outputs": [],
   "source": [
    "# ####ONE HOT ENCODE####\n",
    "# new_y_train = np.zeros((y_train.shape[0], 10))\n",
    "# new_y_train[range(len(y_train)), y_train] = 1\n",
    "\n",
    "# new_y_val = np.zeros((y_val.shape[0], 10))\n",
    "# new_y_val[range(len(y_val)), y_val] = 1\n",
    "\n",
    "# new_y_test = np.zeros((y_test.shape[0], 10))\n",
    "# new_y_test[range(len(y_test)), y_test] = 1"
   ]
  },
  {
   "cell_type": "code",
   "execution_count": null,
   "metadata": {
    "slideshow": {
     "slide_type": "skip"
    }
   },
   "outputs": [],
   "source": [
    "# np.save('x_train', x_train)\n",
    "# np.save('y_train', new_y_train)\n",
    "# np.save('x_val', x_val)\n",
    "# np.save('y_val', new_y_val)\n",
    "# np.save('x_test', x_test)\n",
    "# np.save('y_test', new_y_test)"
   ]
  },
  {
   "cell_type": "code",
   "execution_count": null,
   "metadata": {
    "slideshow": {
     "slide_type": "slide"
    }
   },
   "outputs": [],
   "source": [
    "x_train = np.load('x_train.npy')\n",
    "y_train = np.load('y_train.npy')\n",
    "x_val = np.load('x_val.npy')\n",
    "y_val = np.load('y_val.npy')\n",
    "x_test = np.load('x_test.npy')\n",
    "y_test = np.load('y_test.npy')"
   ]
  },
  {
   "cell_type": "code",
   "execution_count": null,
   "metadata": {
    "slideshow": {
     "slide_type": "slide"
    }
   },
   "outputs": [],
   "source": [
    "print(x_train.shape)\n",
    "print(y_train.shape)\n",
    "print(x_val.shape)\n",
    "print(y_val.shape)\n",
    "print(x_test.shape)\n",
    "print(y_test.shape)"
   ]
  },
  {
   "cell_type": "markdown",
   "metadata": {
    "slideshow": {
     "slide_type": "slide"
    }
   },
   "source": [
    "# Visualizamos los datos"
   ]
  },
  {
   "cell_type": "code",
   "execution_count": null,
   "metadata": {
    "cell_style": "split",
    "slideshow": {
     "slide_type": "fragment"
    }
   },
   "outputs": [],
   "source": [
    "index = randint(0, x_train.shape[0])\n",
    "\n",
    "plt.imshow(x_train[index].reshape((28,28)), cmap='gray')\n",
    "plt.show()"
   ]
  },
  {
   "cell_type": "code",
   "execution_count": null,
   "metadata": {
    "cell_style": "split",
    "slideshow": {
     "slide_type": "fragment"
    }
   },
   "outputs": [],
   "source": [
    "print(y_train[index,:])"
   ]
  },
  {
   "cell_type": "markdown",
   "metadata": {
    "slideshow": {
     "slide_type": "slide"
    }
   },
   "source": [
    "# Pytorch"
   ]
  },
  {
   "cell_type": "code",
   "execution_count": null,
   "metadata": {
    "slideshow": {
     "slide_type": "fragment"
    }
   },
   "outputs": [],
   "source": [
    "import torch\n",
    "import torch.nn as nn\n",
    "from torch.autograd import Variable"
   ]
  },
  {
   "cell_type": "code",
   "execution_count": null,
   "metadata": {
    "slideshow": {
     "slide_type": "fragment"
    }
   },
   "outputs": [],
   "source": [
    "torch.manual_seed(0)\n",
    "torch.backends.cudnn.deterministic = True\n",
    "torch.backends.cudnn.benchmark = False"
   ]
  },
  {
   "cell_type": "markdown",
   "metadata": {
    "slideshow": {
     "slide_type": "slide"
    }
   },
   "source": [
    "# Definimos el modelo"
   ]
  },
  {
   "cell_type": "code",
   "execution_count": null,
   "metadata": {
    "slideshow": {
     "slide_type": "fragment"
    }
   },
   "outputs": [],
   "source": [
    "class NeuralNetwork(nn.Module):\n",
    "    def __init__(self, hidden_layer_sizes):\n",
    "        super(NeuralNetwork, self).__init__()\n",
    "        \n",
    "        self.hidden_layers = nn.ModuleList()\n",
    "        \n",
    "        for i in range(len(hidden_layer_sizes)-1):\n",
    "            prev_layer_size = hidden_layer_sizes[i]\n",
    "            next_layer_size = hidden_layer_sizes[i+1]\n",
    "            \n",
    "            self.hidden_layers.append(nn.Linear(prev_layer_size, next_layer_size))\n",
    "            self.hidden_layers.append(nn.ELU())\n",
    "    \n",
    "    def forward(self, x):\n",
    "        out = x\n",
    "        for layer in self.hidden_layers:\n",
    "            out = layer(out)\n",
    "        return out"
   ]
  },
  {
   "cell_type": "markdown",
   "metadata": {
    "slideshow": {
     "slide_type": "slide"
    }
   },
   "source": [
    "## Definimos la red y exploramos las dimensiones de los parámetros"
   ]
  },
  {
   "cell_type": "code",
   "execution_count": null,
   "metadata": {
    "cell_style": "split",
    "slideshow": {
     "slide_type": "fragment"
    }
   },
   "outputs": [],
   "source": [
    "m, n = x_train.shape\n",
    "layer_sizes = (784, 512, 10)\n",
    "\n",
    "model = NeuralNetwork(layer_sizes)"
   ]
  },
  {
   "cell_type": "code",
   "execution_count": null,
   "metadata": {
    "cell_style": "split",
    "slideshow": {
     "slide_type": "fragment"
    }
   },
   "outputs": [],
   "source": [
    "for p in model.parameters():\n",
    "    print(p.shape)"
   ]
  },
  {
   "cell_type": "markdown",
   "metadata": {
    "slideshow": {
     "slide_type": "slide"
    }
   },
   "source": [
    "# Definimos la funcion de costo y el optimizador"
   ]
  },
  {
   "cell_type": "code",
   "execution_count": null,
   "metadata": {
    "slideshow": {
     "slide_type": "fragment"
    }
   },
   "outputs": [],
   "source": [
    "criterion = nn.CrossEntropyLoss()  \n",
    "optimizer = torch.optim.Adam(model.parameters(), lr=0.01)"
   ]
  },
  {
   "cell_type": "code",
   "execution_count": null,
   "metadata": {
    "slideshow": {
     "slide_type": "fragment"
    }
   },
   "outputs": [],
   "source": [
    "num_epochs = 100\n",
    "images_train = Variable(torch.from_numpy(x_train.astype(np.float32)).view(-1, 28*28))\n",
    "labels_train = Variable(torch.from_numpy(np.argmax(y_train.astype(np.int64), axis=-1)))\n",
    "\n",
    "images_val = Variable(torch.from_numpy(x_val.astype(np.float32)).view(-1, 28*28))\n",
    "labels_val = Variable(torch.from_numpy(np.argmax(y_val.astype(np.int64), axis=-1)))"
   ]
  },
  {
   "cell_type": "markdown",
   "metadata": {
    "slideshow": {
     "slide_type": "slide"
    }
   },
   "source": [
    "## Train model"
   ]
  },
  {
   "cell_type": "code",
   "execution_count": null,
   "metadata": {
    "slideshow": {
     "slide_type": "skip"
    }
   },
   "outputs": [],
   "source": [
    "def print_metrics(epoch, loss, train_out, train_label, val_out, val_label):\n",
    "    print('Iteración:', epoch+1, '|',\n",
    "          'Costo:', loss.item(), '|', \n",
    "          'Train Acc:', accuracy_score(np.argmax(train_out.detach().numpy(), axis=1), train_label), '|', \n",
    "          'Val Acc:', accuracy_score(np.argmax(val_out.detach().numpy(), axis=1), val_label))"
   ]
  },
  {
   "cell_type": "code",
   "execution_count": null,
   "metadata": {
    "scrolled": true,
    "slideshow": {
     "slide_type": "fragment"
    }
   },
   "outputs": [],
   "source": [
    "for epoch in range(num_epochs):\n",
    "    images_train.cuda()\n",
    "    labels_train.cuda()\n",
    "    \n",
    "    optimizer.zero_grad()\n",
    "    outputs = model(images_train)\n",
    "    loss = criterion(outputs, labels_train)\n",
    "    loss.backward()\n",
    "    optimizer.step()\n",
    "\n",
    "    if (epoch+1) % 10 == 0:\n",
    "        val_out = model(images_val)\n",
    "        print_metrics(epoch, loss, outputs, labels_train, val_out, labels_val)"
   ]
  },
  {
   "cell_type": "markdown",
   "metadata": {
    "slideshow": {
     "slide_type": "slide"
    }
   },
   "source": [
    "# Test Set Pytorch"
   ]
  },
  {
   "cell_type": "code",
   "execution_count": null,
   "metadata": {
    "slideshow": {
     "slide_type": "fragment"
    }
   },
   "outputs": [],
   "source": [
    "images_test = Variable(torch.from_numpy(x_test.astype(np.float32)).view(-1, 28*28))\n",
    "labels_test = Variable(torch.from_numpy(np.argmax(y_test.astype(np.int64), axis=-1)))"
   ]
  },
  {
   "cell_type": "code",
   "execution_count": null,
   "metadata": {
    "slideshow": {
     "slide_type": "fragment"
    }
   },
   "outputs": [],
   "source": [
    "pred = model(images_test)\n",
    "pred = np.argmax(pred.detach().numpy(), axis=1)\n",
    "\n",
    "print(accuracy_score(pred, labels_test))\n",
    "print(confusion_matrix(pred, labels_test))"
   ]
  }
 ],
 "metadata": {
  "celltoolbar": "Slideshow",
  "kernelspec": {
   "display_name": "Python (machine_learning)",
   "language": "python",
   "name": "machine_learning"
  },
  "language_info": {
   "codemirror_mode": {
    "name": "ipython",
    "version": 3
   },
   "file_extension": ".py",
   "mimetype": "text/x-python",
   "name": "python",
   "nbconvert_exporter": "python",
   "pygments_lexer": "ipython3",
   "version": "3.7.2"
  }
 },
 "nbformat": 4,
 "nbformat_minor": 2
}
