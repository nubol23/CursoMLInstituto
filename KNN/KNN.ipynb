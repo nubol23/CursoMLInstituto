{
 "cells": [
  {
   "cell_type": "markdown",
   "metadata": {
    "slideshow": {
     "slide_type": "slide"
    }
   },
   "source": [
    "# K Vecinos Más Cercanos"
   ]
  },
  {
   "cell_type": "markdown",
   "metadata": {
    "cell_style": "center",
    "slideshow": {
     "slide_type": "slide"
    }
   },
   "source": [
    "# Importamos las librerias necesarias"
   ]
  },
  {
   "cell_type": "code",
   "execution_count": 1,
   "metadata": {
    "cell_style": "center",
    "slideshow": {
     "slide_type": "fragment"
    }
   },
   "outputs": [],
   "source": [
    "import heapq ##Heap\n",
    "\n",
    "from collections import Counter #Contador de ocurrencias\n",
    "import operator #Para operaciones funcionales\n",
    "\n",
    "\n",
    "from sklearn.datasets import make_classification #Generar datos aleatoriamente"
   ]
  },
  {
   "cell_type": "markdown",
   "metadata": {
    "slideshow": {
     "slide_type": "slide"
    }
   },
   "source": [
    "# Uso de numpy"
   ]
  },
  {
   "cell_type": "code",
   "execution_count": 2,
   "metadata": {
    "cell_style": "split",
    "slideshow": {
     "slide_type": "fragment"
    }
   },
   "outputs": [
    {
     "name": "stdout",
     "output_type": "stream",
     "text": [
      "(2, 3)\n",
      "[[-0.38798754  0.59308567  1.89809659]\n",
      " [ 1.93444707 -1.51710165 -2.67669774]]\n"
     ]
    }
   ],
   "source": [
    "import numpy as np #Algebra Lineal\n",
    "\n",
    "mat1 = np.random.randn(2, 3)\n",
    "print(mat1.shape)\n",
    "\n",
    "print(mat1)"
   ]
  },
  {
   "cell_type": "code",
   "execution_count": 3,
   "metadata": {
    "cell_style": "split",
    "scrolled": true,
    "slideshow": {
     "slide_type": "fragment"
    }
   },
   "outputs": [
    {
     "name": "stdout",
     "output_type": "stream",
     "text": [
      "(5, 3, 2, 7)\n",
      "[[[[-4.74613160e-02 -2.37128235e+00 -6.37922486e-01 -1.16789521e+00\n",
      "    -4.70764256e-01 -2.29575427e+00  4.49990454e-01]\n",
      "   [-1.39031109e+00 -6.06951455e-01 -1.52721538e-01 -3.44634723e-01\n",
      "    -8.00485188e-01  1.51112632e-01 -7.79071730e-01]]\n",
      "\n",
      "  [[ 1.34422823e-01  5.70225999e-01 -9.03849466e-01 -1.15617259e+00\n",
      "    -8.45168084e-01 -5.13542082e-01  1.49738164e+00]\n",
      "   [ 6.40820448e-02  1.54112500e+00 -5.75298033e-01  1.89349616e+00\n",
      "    -9.52359513e-01 -5.69844838e-01  7.07166010e-01]]\n",
      "\n",
      "  [[-4.74566534e-01  5.03534555e-01  3.28899523e-01 -1.60727727e+00\n",
      "    -3.71175266e-03  2.29125477e+00  7.30396473e-01]\n",
      "   [ 1.48133955e-01  3.36658213e-01  5.27728573e-01  7.48065546e-01\n",
      "     8.08820684e-02 -5.63287529e-01  8.24703108e-01]]]\n",
      "\n",
      "\n",
      " [[[ 8.24861269e-02  4.95364272e-01  9.72537084e-01  1.20398858e+00\n",
      "     7.80577772e-01 -1.29439614e+00  3.00493295e-01]\n",
      "   [-5.16919968e-02 -1.34239149e+00  6.10096613e-01 -2.43349108e-01\n",
      "    -1.96782138e+00  6.18512241e-01 -1.42617018e+00]]\n",
      "\n",
      "  [[-1.93106778e-01 -1.69040603e-01  1.20182562e+00 -3.45888118e-02\n",
      "    -1.20722346e-01 -5.29934358e-01 -7.14315116e-01]\n",
      "   [ 6.48324516e-01 -2.96223050e-01 -1.06300060e+00  2.33705256e+00\n",
      "    -5.28217298e-01  1.08930879e+00  2.77765480e+00]]\n",
      "\n",
      "  [[ 2.03543408e-01 -8.04162169e-02 -1.22333142e+00 -7.97279566e-01\n",
      "     4.80436839e-01 -1.20408055e-01  1.00839121e+00]\n",
      "   [ 2.88328726e-01  1.04971535e+00 -8.78802867e-02  9.18007427e-01\n",
      "     2.38324681e+00 -2.69928879e-01  4.40716411e-01]]]\n",
      "\n",
      "\n",
      " [[[-8.43273073e-01  8.82857400e-01  3.90206145e-01 -9.57004034e-01\n",
      "     5.08501194e-01 -2.04591079e-01 -2.67725851e-01]\n",
      "   [ 1.72718390e+00 -5.10783177e-02  8.94729962e-01  3.67201310e-01\n",
      "     2.58442081e-01  7.74621474e-01  2.06020411e-01]]\n",
      "\n",
      "  [[ 2.33871752e+00  2.49842133e-03 -1.77389777e-01 -1.08314370e+00\n",
      "    -1.67606159e+00 -3.12862474e-01 -2.24573825e+00]\n",
      "   [-1.96602850e+00 -8.83275476e-04  4.06707125e-01  4.76743640e-01\n",
      "     5.60373657e-01 -9.85181147e-02  3.30938582e-01]]\n",
      "\n",
      "  [[ 4.78975907e-01  2.72654418e-01  6.12245835e-01 -5.98060883e-01\n",
      "     1.30185323e-01  1.92630222e-01  9.94367649e-01]\n",
      "   [-1.67584081e+00 -5.81142834e-01 -1.44689517e+00  2.35667768e-01\n",
      "     1.99778956e+00  5.47608984e-01  6.04298127e-01]]]\n",
      "\n",
      "\n",
      " [[[-1.70128447e-01 -1.56506114e+00  3.03656855e-01  2.19067832e-01\n",
      "     1.77688875e-01  3.21713875e-02  1.39243377e-01]\n",
      "   [-2.14541369e-01  1.21718569e+00 -1.78164327e+00  1.01550854e+00\n",
      "     1.36270994e-01  6.93526597e-01 -2.35911740e-01]]\n",
      "\n",
      "  [[-2.33040078e-01  1.29761490e+00  6.96537054e-02  4.15658590e-02\n",
      "     7.58473710e-02 -4.03529008e-01 -9.67599288e-01]\n",
      "   [-3.27544746e-01 -2.26076195e-01  1.35075539e+00 -2.54999759e-01\n",
      "     8.44771221e-01 -1.05657154e+00 -2.88011856e-01]]\n",
      "\n",
      "  [[-1.26172063e+00 -1.09097394e+00  5.08086009e-02  3.65113288e-01\n",
      "     6.94129134e-01 -7.16364602e-01  4.96920124e-01]\n",
      "   [-2.26294613e-01  4.49350772e-01  1.60947864e+00  1.07855015e+00\n",
      "    -5.71301587e-01  3.35779197e-02 -2.21577986e-01]]]\n",
      "\n",
      "\n",
      " [[[ 1.73526866e+00  3.53353689e-01 -5.66343679e-01 -2.02119811e-01\n",
      "     1.33237876e+00  7.63533318e-01  1.96854946e-01]\n",
      "   [ 8.94385234e-01  2.64514005e-01  1.70463908e-02  1.68170787e+00\n",
      "     3.91395987e-01 -1.50489147e+00  4.03122546e-01]]\n",
      "\n",
      "  [[-3.91858608e-01  1.25228178e+00 -1.53070412e-01  2.58909293e-02\n",
      "     1.29375424e+00 -1.32436838e+00 -8.04637979e-01]\n",
      "   [ 7.75792851e-01  8.50310481e-01  1.02705793e+00 -2.97295767e-01\n",
      "    -1.59048208e+00  4.51830732e-01  1.02620015e+00]]\n",
      "\n",
      "  [[-8.17083686e-01 -1.03717707e+00  1.50989953e-01  9.10562940e-01\n",
      "    -1.32421101e+00 -7.59750360e-01 -4.54075844e-02]\n",
      "   [-3.43097098e-01 -3.84948963e-01  9.92912267e-01 -2.35633108e+00\n",
      "     1.25011049e+00 -1.60948408e+00  1.48961886e+00]]]]\n"
     ]
    }
   ],
   "source": [
    "dimensiones = (5, 3, 2, 7)\n",
    "mat2 = np.random.randn(*dimensiones)\n",
    "\n",
    "print(mat2.shape)\n",
    "print(mat2)"
   ]
  },
  {
   "cell_type": "markdown",
   "metadata": {
    "slideshow": {
     "slide_type": "slide"
    }
   },
   "source": [
    "# Uso de matplotlib"
   ]
  },
  {
   "cell_type": "markdown",
   "metadata": {
    "cell_style": "center",
    "slideshow": {
     "slide_type": "fragment"
    }
   },
   "source": [
    "#### Podemos graficar el la matriz de (3,2) generada anteriormente"
   ]
  },
  {
   "cell_type": "code",
   "execution_count": 4,
   "metadata": {
    "cell_style": "split",
    "slideshow": {
     "slide_type": "fragment"
    }
   },
   "outputs": [],
   "source": [
    "import matplotlib.pyplot as plt #Graficos"
   ]
  },
  {
   "cell_type": "code",
   "execution_count": 5,
   "metadata": {
    "cell_style": "split",
    "slideshow": {
     "slide_type": "fragment"
    }
   },
   "outputs": [
    {
     "data": {
      "image/png": "[encoded data removed]",
      "text/plain": [
       "<Figure size 432x288 with 1 Axes>"
      ]
     },
     "metadata": {
      "needs_background": "light"
     },
     "output_type": "display_data"
    }
   ],
   "source": [
    "plt.plot(mat1, 'o')\n",
    "plt.show()"
   ]
  },
  {
   "cell_type": "markdown",
   "metadata": {
    "slideshow": {
     "slide_type": "slide"
    }
   },
   "source": [
    "# Definimos una funciona para simplifaar el código de la gráfica que necesitaremos"
   ]
  },
  {
   "cell_type": "code",
   "execution_count": null,
   "metadata": {
    "slideshow": {
     "slide_type": "fragment"
    }
   },
   "outputs": [],
   "source": [
    "def plot_dataset(X, Y):\n",
    "    \n",
    "    # Lila: 1, Amarillo: 0\n",
    "    plt.scatter(X[:, 0], X[:, 1], \n",
    "            marker='o', \n",
    "            c=Y, #Coloreamos los puntos en base a la clase a la que pertenecen\n",
    "            s=30, #Tamaño de los puntos\n",
    "            edgecolors='k')"
   ]
  },
  {
   "cell_type": "markdown",
   "metadata": {
    "slideshow": {
     "slide_type": "slide"
    }
   },
   "source": [
    "# Generamos un conjunto de datos aleatorio"
   ]
  },
  {
   "cell_type": "code",
   "execution_count": null,
   "metadata": {
    "cell_style": "split",
    "slideshow": {
     "slide_type": "fragment"
    }
   },
   "outputs": [],
   "source": [
    "X, Y = make_classification(\n",
    "    n_features=2, \n",
    "    n_redundant=0, \n",
    "    n_informative=1, \n",
    "    n_clusters_per_class=1)"
   ]
  },
  {
   "cell_type": "code",
   "execution_count": null,
   "metadata": {
    "cell_style": "split",
    "scrolled": true,
    "slideshow": {
     "slide_type": "fragment"
    }
   },
   "outputs": [],
   "source": [
    "plot_dataset(X, Y)"
   ]
  },
  {
   "cell_type": "markdown",
   "metadata": {
    "slideshow": {
     "slide_type": "slide"
    }
   },
   "source": [
    "# Cargamos un dataset que está mejor preparado"
   ]
  },
  {
   "cell_type": "code",
   "execution_count": null,
   "metadata": {
    "cell_style": "split",
    "slideshow": {
     "slide_type": "fragment"
    }
   },
   "outputs": [],
   "source": [
    "X = np.load('X_knn.npy')\n",
    "Y = np.load('Y_knn.npy')"
   ]
  },
  {
   "cell_type": "code",
   "execution_count": null,
   "metadata": {
    "cell_style": "split",
    "slideshow": {
     "slide_type": "fragment"
    }
   },
   "outputs": [],
   "source": [
    "plot_dataset(X, Y)"
   ]
  },
  {
   "cell_type": "markdown",
   "metadata": {
    "slideshow": {
     "slide_type": "slide"
    }
   },
   "source": [
    "# Generamos un punto aleatorio que será sobre el que haremos la predicción del KNN"
   ]
  },
  {
   "cell_type": "code",
   "execution_count": null,
   "metadata": {
    "cell_style": "split",
    "slideshow": {
     "slide_type": "fragment"
    }
   },
   "outputs": [],
   "source": [
    "q = np.random.uniform(low=-1.6, \n",
    "                      high=2.1, \n",
    "                      size=(2))\n",
    "\n",
    "print(q.shape)\n",
    "\n",
    "print('Punto de consulta:', q[0])"
   ]
  },
  {
   "cell_type": "code",
   "execution_count": null,
   "metadata": {
    "cell_style": "split",
    "scrolled": false,
    "slideshow": {
     "slide_type": "fragment"
    }
   },
   "outputs": [],
   "source": [
    "plot_dataset(X, Y)\n",
    "plt.plot(q[0], q[1], 'ro')\n",
    "plt.show()"
   ]
  },
  {
   "cell_type": "markdown",
   "metadata": {
    "slideshow": {
     "slide_type": "slide"
    }
   },
   "source": [
    "### Implementamos KNN y la métrica a usar\n",
    "\n",
    "$$\\hat{d} = \\sqrt{\\sum_{i=1}^{\\#dimensiones} (p_i - q_i)^2} $$"
   ]
  },
  {
   "cell_type": "code",
   "execution_count": null,
   "metadata": {
    "cell_style": "center",
    "slideshow": {
     "slide_type": "fragment"
    }
   },
   "outputs": [],
   "source": [
    "def metrica(p1: list(), p2: list()):\n",
    "    puntos = [(p, q) for p, q in zip(p1, p2)]\n",
    "    return sum(map( lambda e: (e[0] - e[1])**2, puntos) )"
   ]
  },
  {
   "cell_type": "markdown",
   "metadata": {
    "slideshow": {
     "slide_type": "slide"
    }
   },
   "source": [
    "![alt-text](img/pseudo.png)"
   ]
  },
  {
   "cell_type": "code",
   "execution_count": null,
   "metadata": {
    "cell_style": "center",
    "slideshow": {
     "slide_type": "slide"
    }
   },
   "outputs": [],
   "source": [
    "def knn(X, Y, query, k):\n",
    "    \"\"\"\n",
    "    X: matriz de tamaño (n_muestras, n_caracteristicas).\n",
    "    Y: vector con las clases correspondientes para cada muestra.\n",
    "    query: punto de consulta de dimsensiones (n_caracteristicas, ).\n",
    "    k: número de vecinos a considerar para la asignación de clases.\n",
    "    \"\"\"\n",
    "    distancias = [(metrica(x, query), y) for x, y in zip(X, Y)]\n",
    "    distancias = sorted(distancias, key=lambda e: e[0])\n",
    "    \n",
    "    # {clase1: ocurrencias, clase2: ocurrencias, ... }\n",
    "    ocurrencias = list(Counter(e[1] for e in distancias[:k]).items())\n",
    "    # [(clase1: ocurrencias), (clase2: ocurrencias), ... ]\n",
    "    \n",
    "    return sorted(ocurrencias, key=lambda e: -e[1])[0][0]"
   ]
  },
  {
   "cell_type": "markdown",
   "metadata": {
    "slideshow": {
     "slide_type": "slide"
    }
   },
   "source": [
    "# Probamos nuestra implementación"
   ]
  },
  {
   "cell_type": "code",
   "execution_count": null,
   "metadata": {
    "cell_style": "split",
    "slideshow": {
     "slide_type": "fragment"
    }
   },
   "outputs": [],
   "source": [
    "# 0: lila, 1: amarillo\n",
    "q = np.random.uniform(low=-1.6, high=2.1, \n",
    "                      size=(2))\n",
    "\n",
    "plot_dataset(X, Y)\n",
    "plt.plot(q[0], q[1], 'ro')\n",
    "plt.show()"
   ]
  },
  {
   "cell_type": "code",
   "execution_count": null,
   "metadata": {
    "cell_style": "split",
    "slideshow": {
     "slide_type": "fragment"
    }
   },
   "outputs": [],
   "source": [
    "X_new = np.vstack((X, q))\n",
    "pred = knn(X, Y, q, 10)\n",
    "Y_new = np.hstack((Y, pred))\n",
    "\n",
    "plot_dataset(X_new, Y_new)"
   ]
  },
  {
   "cell_type": "markdown",
   "metadata": {
    "slideshow": {
     "slide_type": "slide"
    }
   },
   "source": [
    "# Usando Sklearn"
   ]
  },
  {
   "cell_type": "code",
   "execution_count": null,
   "metadata": {
    "slideshow": {
     "slide_type": "fragment"
    }
   },
   "outputs": [],
   "source": [
    "from sklearn.neighbors import KNeighborsClassifier #Generador de datos"
   ]
  },
  {
   "cell_type": "code",
   "execution_count": null,
   "metadata": {
    "cell_style": "split",
    "slideshow": {
     "slide_type": "fragment"
    }
   },
   "outputs": [],
   "source": [
    "model = KNeighborsClassifier(\n",
    "    n_neighbors=10, \n",
    "    algorithm='brute')\n",
    "model.fit(X, Y)"
   ]
  },
  {
   "cell_type": "code",
   "execution_count": null,
   "metadata": {
    "cell_style": "split",
    "slideshow": {
     "slide_type": "fragment"
    }
   },
   "outputs": [],
   "source": [
    "reshaped_q = np.reshape(q, (1, -1))\n",
    "print(reshaped_q.shape)\n",
    "\n",
    "pred = model.predict(reshaped_q)\n",
    "print(pred)"
   ]
  },
  {
   "cell_type": "markdown",
   "metadata": {
    "slideshow": {
     "slide_type": "slide"
    }
   },
   "source": [
    "# Comparamos nuestras predicciones"
   ]
  },
  {
   "cell_type": "code",
   "execution_count": null,
   "metadata": {
    "slideshow": {
     "slide_type": "fragment"
    }
   },
   "outputs": [],
   "source": [
    "q = np.random.uniform(low=-1.6, high=2.1, size=(2))"
   ]
  },
  {
   "cell_type": "code",
   "execution_count": null,
   "metadata": {
    "cell_style": "split",
    "slideshow": {
     "slide_type": "fragment"
    }
   },
   "outputs": [],
   "source": [
    "pred_1 = knn(X, Y, q, 10)\n",
    "\n",
    "print('manual:', pred_1)"
   ]
  },
  {
   "cell_type": "code",
   "execution_count": null,
   "metadata": {
    "cell_style": "split",
    "slideshow": {
     "slide_type": "fragment"
    }
   },
   "outputs": [],
   "source": [
    "reshaped_q = np.reshape(q, (1, -1))\n",
    "pred_2 = model.predict(reshaped_q)[0]\n",
    "\n",
    "print('sklearn: ', pred_2)"
   ]
  },
  {
   "cell_type": "markdown",
   "metadata": {
    "slideshow": {
     "slide_type": "slide"
    }
   },
   "source": [
    "# Optimizaciones del KNN"
   ]
  },
  {
   "cell_type": "code",
   "execution_count": null,
   "metadata": {
    "slideshow": {
     "slide_type": "fragment"
    }
   },
   "outputs": [],
   "source": [
    "KNeighborsClassifier(n_neighbors=10, algorithm='ball_tree')"
   ]
  },
  {
   "cell_type": "code",
   "execution_count": null,
   "metadata": {
    "slideshow": {
     "slide_type": "fragment"
    }
   },
   "outputs": [],
   "source": [
    "KNeighborsClassifier(n_neighbors=10, algorithm='kd_tree')"
   ]
  },
  {
   "cell_type": "markdown",
   "metadata": {
    "cell_style": "center",
    "slideshow": {
     "slide_type": "slide"
    }
   },
   "source": [
    "# Resolviendo el dataset del Iris\n",
    "\n",
    "![alt-text](img/Large53.jpg)\n",
    "1. sepal length in cm \n",
    "2. sepal width in cm \n",
    "3. petal length in cm \n",
    "4. petal width in cm \n",
    "5. class: Iris Setosa, Iris Versicolour, Iris Virginica"
   ]
  },
  {
   "cell_type": "code",
   "execution_count": null,
   "metadata": {
    "cell_style": "center",
    "slideshow": {
     "slide_type": "slide"
    }
   },
   "outputs": [],
   "source": [
    "from sklearn.datasets import load_iris # Cargamos el dataset"
   ]
  },
  {
   "cell_type": "code",
   "execution_count": null,
   "metadata": {
    "slideshow": {
     "slide_type": "fragment"
    }
   },
   "outputs": [],
   "source": [
    "import pandas as pd"
   ]
  },
  {
   "cell_type": "code",
   "execution_count": null,
   "metadata": {
    "cell_style": "split",
    "slideshow": {
     "slide_type": "fragment"
    }
   },
   "outputs": [],
   "source": [
    "data = pd.read_csv('iris.data', \n",
    "                   names=['sepal length in cm',\n",
    "                          'sepal width in cm',\n",
    "                          'petal length in cm', \n",
    "                          'petal width in cm',\n",
    "                          'class'])\n",
    "\n",
    "print(data.shape)"
   ]
  },
  {
   "cell_type": "code",
   "execution_count": null,
   "metadata": {
    "cell_style": "split",
    "slideshow": {
     "slide_type": "fragment"
    }
   },
   "outputs": [],
   "source": [
    "data.head()"
   ]
  },
  {
   "cell_type": "markdown",
   "metadata": {
    "slideshow": {
     "slide_type": "slide"
    }
   },
   "source": [
    "# Preparando los datos en sus respectivas matrices NUMÉRICAS"
   ]
  },
  {
   "cell_type": "code",
   "execution_count": null,
   "metadata": {
    "cell_style": "split",
    "slideshow": {
     "slide_type": "fragment"
    }
   },
   "outputs": [],
   "source": [
    "X = data.drop(['class'], axis=1).values\n",
    "\n",
    "print(X.shape)\n",
    "print('-'*10)\n",
    "print(X[:5, :])"
   ]
  },
  {
   "cell_type": "code",
   "execution_count": null,
   "metadata": {
    "cell_style": "split",
    "slideshow": {
     "slide_type": "fragment"
    }
   },
   "outputs": [],
   "source": [
    "Y = pd.get_dummies(data['class']).values\n",
    "Y = np.argmax(Y, axis=1)\n",
    "\n",
    "print(Y.shape)\n",
    "print('-'*10)\n",
    "print(Y[:5])\n",
    "\n",
    "pd.get_dummies(data['class']).head()"
   ]
  },
  {
   "cell_type": "markdown",
   "metadata": {
    "slideshow": {
     "slide_type": "slide"
    }
   },
   "source": [
    "# Test Train Split"
   ]
  },
  {
   "cell_type": "code",
   "execution_count": null,
   "metadata": {
    "slideshow": {
     "slide_type": "fragment"
    }
   },
   "outputs": [],
   "source": [
    "from sklearn.model_selection import train_test_split"
   ]
  },
  {
   "cell_type": "code",
   "execution_count": null,
   "metadata": {
    "slideshow": {
     "slide_type": "fragment"
    }
   },
   "outputs": [],
   "source": [
    "X_train, X_test, Y_train, Y_test = train_test_split(X, Y, test_size=0.2, random_state=1)\n",
    "\n",
    "print(X_train.shape, X_test.shape, Y_train.shape, Y_test.shape)"
   ]
  },
  {
   "cell_type": "code",
   "execution_count": null,
   "metadata": {
    "slideshow": {
     "slide_type": "fragment"
    }
   },
   "outputs": [],
   "source": [
    "from sklearn.metrics import accuracy_score, confusion_matrix"
   ]
  },
  {
   "cell_type": "markdown",
   "metadata": {
    "slideshow": {
     "slide_type": "slide"
    }
   },
   "source": [
    "# Aplicamos nuestro modelo"
   ]
  },
  {
   "cell_type": "code",
   "execution_count": null,
   "metadata": {
    "slideshow": {
     "slide_type": "fragment"
    }
   },
   "outputs": [],
   "source": [
    "def knn_batch(X, Y, querys, k):\n",
    "    predictions = [knn(X, Y, q, k) for q in querys]\n",
    "    \n",
    "    return predictions"
   ]
  },
  {
   "cell_type": "code",
   "execution_count": null,
   "metadata": {
    "slideshow": {
     "slide_type": "fragment"
    }
   },
   "outputs": [],
   "source": [
    "pred_manual = knn_batch(X_train, Y_train, X_test, 10)\n",
    "\n",
    "print(accuracy_score(pred_manual, Y_test))\n",
    "print(confusion_matrix(pred_manual, Y_test))"
   ]
  },
  {
   "cell_type": "markdown",
   "metadata": {
    "slideshow": {
     "slide_type": "slide"
    }
   },
   "source": [
    "# Aplicamos Sklearn"
   ]
  },
  {
   "cell_type": "code",
   "execution_count": null,
   "metadata": {
    "slideshow": {
     "slide_type": "fragment"
    }
   },
   "outputs": [],
   "source": [
    "model = KNeighborsClassifier(n_neighbors=10, algorithm='kd_tree')\n",
    "model.fit(X_train, Y_train)\n",
    "\n",
    "pred_sk = model.predict(X_test)\n",
    "\n",
    "print(accuracy_score(pred_sk, Y_test))\n",
    "print(confusion_matrix(pred_sk, Y_test))"
   ]
  }
 ],
 "metadata": {
  "celltoolbar": "Slideshow",
  "kernelspec": {
   "display_name": "Python (machine_learning)",
   "language": "python",
   "name": "machine_learning"
  },
  "language_info": {
   "codemirror_mode": {
    "name": "ipython",
    "version": 3
   },
   "file_extension": ".py",
   "mimetype": "text/x-python",
   "name": "python",
   "nbconvert_exporter": "python",
   "pygments_lexer": "ipython3",
   "version": "3.7.2"
  }
 },
 "nbformat": 4,
 "nbformat_minor": 2
}
